{
 "cells": [
  {
   "cell_type": "code",
   "execution_count": null,
   "id": "80fac1ab",
   "metadata": {},
   "outputs": [],
   "source": [
    "# Polymerphism\n",
    "\n",
    "class Car:\n",
    "    def __init__(self, windows, doors,engineType):\n",
    "        self.windows = windows\n",
    "        self.doors = doors\n",
    "        self.enginType = engineType\n",
    "       \n",
    "\n",
    "    def start(self):\n",
    "        print(f\" Car {self.enginType} is starting.\")\n",
    "\n",
    "\n",
    "# class Tesla(Car):\n",
    "#         def __init__(self, windows):\n",
    "#             #  self.windows = windows\n",
    "#             #  super().__init__(windows, doors, engineType)\n",
    "\n",
    "#         # def stop(self)\n",
    "#         pass\n",
    "\n",
    "\n",
    "\n",
    "# t1 = Tesla(4,\"4\",\"Petrol\",\"superCar\")     \n",
    "# t1 = Tesla(4)     \n",
    "# t1.start()"
   ]
  },
  {
   "cell_type": "code",
   "execution_count": null,
   "id": "50153069",
   "metadata": {},
   "outputs": [],
   "source": [
    "# class Tesla(Car):\n",
    "#         def __init__(self, windows,doors,engineType,is_selfdriving):\n",
    "#              self.is_selfdriving = is_selfdriving\n",
    "#              super().__init__(windows, doors, engineType)\n",
    "\n",
    "#         def stop(self)\n",
    "#         pass"
   ]
  },
  {
   "cell_type": "markdown",
   "id": "38022487",
   "metadata": {},
   "source": [
    "\n",
    "\n",
    "Calculate electricity bill based on units consumed:\n",
    "\n",
    "\n",
    "First 100 units → Free\n",
    "\n",
    "Next 100 units (101–200) → ₹5 per unit\n",
    "\n",
    "Next 100 units (201–300) → ₹7 per unit\n",
    "\n",
    "Above 300 units → ₹10 per unit\n",
    "\n",
    "\n",
    "\n",
    "\n",
    "### Assignment 1: Basic Class and Object Creation\n",
    "\n",
    "Create a class named `Car` with attributes `make`, `model`, and `year`. Create an object of the class and print its attributes.\n",
    "\n",
    "### Assignment 2: Methods in Class\n",
    "\n",
    "Add a method named `start_engine` to the `Car` class that prints a message when the engine starts. Create an object of the class and call the method.\n",
    "\n",
    "### Assignment 3: Class with Constructor\n",
    "\n",
    "Create a class named `Student` with attributes `name` and `age`. Use a constructor to initialize these attributes. Create an object of the class and print its attributes.\n",
    "\n",
    "### Assignment 4: Class with Private Attributes\n",
    "\n",
    "Create a class named `BankAccount` with private attributes `account_number` and `balance`. Add methods to deposit and withdraw money, and to check the balance. Create an object of the class and perform some operations.\n",
    "\n",
    "### Assignment 5: Class Inheritance\n",
    "\n",
    "Create a base class named `Person` with attributes `name` and `age`. Create a derived class named `Employee` that inherits from `Person` and adds an attribute `employee_id`. Create an object of the derived class and print its attributes."
   ]
  },
  {
   "cell_type": "code",
   "execution_count": null,
   "id": "6e9bb382",
   "metadata": {},
   "outputs": [
    {
     "ename": "",
     "evalue": "",
     "output_type": "error",
     "traceback": [
      "\u001b[1;31mRunning cells with 'python_lib (Python 3.11.7)' requires the ipykernel package.\n",
      "\u001b[1;31mInstall 'ipykernel' into the Python environment. \n",
      "\u001b[1;31mCommand: 'd:/python_lib/.venv/Scripts/python.exe -m pip install ipykernel -U --force-reinstall'"
     ]
    }
   ],
   "source": [
    "bill = 0\n",
    "\n",
    "units = 350\n",
    "\n",
    "if (units<=100):\n",
    "    bill=0\n",
    "elif (units <=200):\n",
    "    bill=(units-100)*5    \n",
    "elif(units <=300):\n",
    "    bill = (100*5) + (units-200)*7\n",
    "\n",
    "else:\n",
    "    bill = (100*5)+(100*7)+(units-300)*10\n",
    "\n",
    "\n",
    "print(\"Units Consumed\",units, \"and Total Bill \",bill)"
   ]
  },
  {
   "cell_type": "code",
   "execution_count": null,
   "id": "119a728f",
   "metadata": {},
   "outputs": [],
   "source": []
  },
  {
   "cell_type": "code",
   "execution_count": null,
   "id": "1ce37525",
   "metadata": {},
   "outputs": [],
   "source": [
    "# Text : Can be String, numbers, or dates resprested in a text format\n",
    "# True/False: Boolean values can be either true or false\n",
    "# Decimal Number: Designed to handle numbers with fractional values, but can also handle whole numbs\n",
    "\n",
    "# Fixed Deciamal Number : Designed to handle currencies, always has four digit to its right to avoid rounding errors\n",
    "\n",
    "# whole numers - it has no digit to its right of the decimal place, allows both positive and negative values\n",
    "    \n",
    "# "
   ]
  },
  {
   "cell_type": "code",
   "execution_count": null,
   "id": "f655cbc9",
   "metadata": {},
   "outputs": [],
   "source": [
    "# why use power query\n",
    "\n",
    "# connecting to multiple data sources including (sql Db, Rest API,csv,google analytics,web.etc)\n",
    "# provide the same user experience and data tranformation regrdless of the data sources\n",
    "# Data needs to be reshaped before ready for reporting\n"
   ]
  },
  {
   "cell_type": "code",
   "execution_count": null,
   "id": "a4140422",
   "metadata": {},
   "outputs": [],
   "source": [
    "# Transformation \n",
    "# \n",
    "# importing data from multiple sources\n",
    "# Replacing and extracting values\n",
    "# Merging Columns\n",
    "# Removing Cloumns and Duplicates \n",
    "# Filters\n",
    "# Data functions\n",
    "# Conditinal Cloumns\n",
    "# pivoting and unpivoting\n",
    "# Merging Table\n",
    "# Data Profile\n",
    "# web scraping\n",
    "# Matheatical Functions\n",
    "\n"
   ]
  }
 ],
 "metadata": {
  "kernelspec": {
   "display_name": "python_lib",
   "language": "python",
   "name": "python3"
  },
  "language_info": {
   "codemirror_mode": {
    "name": "ipython",
    "version": 3
   },
   "file_extension": ".py",
   "mimetype": "text/x-python",
   "name": "python",
   "nbconvert_exporter": "python",
   "pygments_lexer": "ipython3",
   "version": "3.11.7"
  }
 },
 "nbformat": 4,
 "nbformat_minor": 5
}
