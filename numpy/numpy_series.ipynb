{
 "cells": [
  {
   "cell_type": "code",
   "execution_count": null,
   "id": "e572ab10",
   "metadata": {},
   "outputs": [],
   "source": []
  },
  {
   "cell_type": "code",
   "execution_count": 2,
   "id": "68593715",
   "metadata": {},
   "outputs": [
    {
     "name": "stdout",
     "output_type": "stream",
     "text": [
      "[ 2  6 12 20]\n"
     ]
    }
   ],
   "source": [
    "import numpy as np\n",
    "\n",
    "a= np.array([1,2,3,4])\n",
    "b=np.array([2,3,4,5])\n",
    "print(a*b)\n"
   ]
  },
  {
   "cell_type": "code",
   "execution_count": 3,
   "id": "5b06ea50",
   "metadata": {},
   "outputs": [
    {
     "name": "stdout",
     "output_type": "stream",
     "text": [
      "(6,)\n",
      "[1 3 5 7 9]\n",
      "(5,)\n",
      "[[1 3 5 7 9]]\n"
     ]
    }
   ],
   "source": [
    "arr1 = np.array([1,2,3,4,5,6])\n",
    "print(arr1.shape)\n",
    "arr1.reshape(3,2)\n",
    "# 3 row and 2 column\n",
    "\n",
    "print(np.arange(1,10,2))\n",
    "print(np.arange(1,10,2).shape)\n",
    "print(np.arange(1,10,2).reshape(1,5))\n",
    "\n"
   ]
  },
  {
   "cell_type": "code",
   "execution_count": 4,
   "id": "a68eae8e",
   "metadata": {},
   "outputs": [
    {
     "data": {
      "text/plain": [
       "array([[1., 0., 0., 0., 0.],\n",
       "       [0., 1., 0., 0., 0.],\n",
       "       [0., 0., 1., 0., 0.]])"
      ]
     },
     "execution_count": 4,
     "metadata": {},
     "output_type": "execute_result"
    }
   ],
   "source": [
    "np.ones((3,4))\n",
    "np.eye(3,5)\n"
   ]
  },
  {
   "cell_type": "code",
   "execution_count": 5,
   "id": "2134a185",
   "metadata": {},
   "outputs": [
    {
     "name": "stdout",
     "output_type": "stream",
     "text": [
      "Addition [11 22 33 44 55 66]\n",
      "Multiplication [ 10  40  90 160 250 360]\n",
      "Subtraction [ -9 -18 -27 -36 -45 -54]\n",
      "Division [0.1 0.1 0.1 0.1 0.1 0.1]\n",
      "[1.         1.41421356 1.73205081 2.         2.23606798 2.44948974]\n",
      "[  2.71828183   7.3890561   20.08553692  54.59815003 148.4131591\n",
      " 403.42879349]\n"
     ]
    }
   ],
   "source": [
    "# Vector Operation\n",
    "ar1  = np.array([1,2,3,4,5,6])\n",
    "ar2 = np.array([10,20,30,40,50,60])\n",
    "\n",
    "print(\"Addition\",ar1 + ar2)\n",
    "print(\"Multiplication\",ar1 * ar2)\n",
    "print(\"Subtraction\",ar1 - ar2)\n",
    "print(\"Division\",ar1 / ar2)\n",
    "\n",
    "print(np.sqrt(ar1))\n",
    "print(np.exp(ar1))"
   ]
  },
  {
   "cell_type": "code",
   "execution_count": null,
   "id": "da190098",
   "metadata": {},
   "outputs": [
    {
     "name": "stdout",
     "output_type": "stream",
     "text": [
      "Mean 7.5\n",
      "Median 7.5\n",
      "Varience 16.25\n",
      "Stan Deviation  4.031128874149275\n"
     ]
    }
   ],
   "source": [
    "# Statistical Concept\n",
    "\n",
    "data  = np.array([1,2,3,4,5,6,7,8,9,10,11,12,13,14])\n",
    "mean = np.mean(data)\n",
    "median = np.median(data)\n",
    "varience = np.var(data)\n",
    "std_dev = np.std(data)\n",
    "\n",
    "print(\"Mean\",mean)\n",
    "print(\"Median\",median)\n",
    "print(\"Varience\",varience)\n",
    "print(\"Stan Deviation \",std_dev)\n",
    "\n",
    "\n",
    "noramalized_data = (data-mean)/std_dev\n",
    "# Normalized data means your mean is zero and standar deviation is one\n",
    "\n"
   ]
  },
  {
   "cell_type": "code",
   "execution_count": 7,
   "id": "5c578fa6",
   "metadata": {},
   "outputs": [
    {
     "name": "stdout",
     "output_type": "stream",
     "text": [
      "[False False False False False  True  True  True  True]\n",
      "[6 7 8 9]\n",
      "[4 5 6 7]\n",
      "[1 2 3 4 5 6 7 8 9]\n"
     ]
    }
   ],
   "source": [
    "# Logical operation\n",
    "data1 = np.array([1,2,3,4,5,6,7,8,9])\n",
    "\n",
    "print(data1>5)\n",
    "print(data1[data1>5])\n",
    "print(data1[(data1 > 3) & (data1 < 8)])  # Output: [4 5 6 7]\n",
    "print(data1)\n",
    "\n"
   ]
  }
 ],
 "metadata": {
  "kernelspec": {
   "display_name": "python_lib (3.11.13)",
   "language": "python",
   "name": "python3"
  },
  "language_info": {
   "codemirror_mode": {
    "name": "ipython",
    "version": 3
   },
   "file_extension": ".py",
   "mimetype": "text/x-python",
   "name": "python",
   "nbconvert_exporter": "python",
   "pygments_lexer": "ipython3",
   "version": "3.11.13"
  }
 },
 "nbformat": 4,
 "nbformat_minor": 5
}
