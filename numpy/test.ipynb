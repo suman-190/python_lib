{
 "cells": [
  {
   "cell_type": "code",
   "execution_count": null,
   "id": "e0a6c6bd",
   "metadata": {},
   "outputs": [
    {
     "name": "stdout",
     "output_type": "stream",
     "text": [
      "<class 'numpy.ndarray'>\n",
      "<class 'list'>\n",
      "1\n",
      "2\n",
      "2\n",
      "3\n",
      "(2, 2, 2)\n",
      "(2, 2, 3)\n",
      "12\n",
      "int64\n",
      "3\n",
      "()\n"
     ]
    }
   ],
   "source": [
    "import numpy as np\n",
    "\n",
    "\n",
    "# performing mathematical and logical operation on arrays\n",
    "\n",
    "# working efficiently with large data\n",
    "\n",
    "# creating multi-dimensional arrays (like matrices)\n",
    "\n",
    "# linear algerbra, fourier transform, and random number generation\n",
    "\n",
    "arr = np.array([1,2,3,4])\n",
    "arr2 = [1,2,3,4]\n",
    "\n",
    "print(type(arr))\n",
    "print(type(arr2))\n",
    "arr2 = np.array([1,2,3])\n",
    "arr3 = np.array([[1,2],[3,4]])\n",
    "arr4 = np.array([[1,2],[3,4],[4,5],[7,8],[10,12]])\n",
    "arr5 = np.array([[[1,2],[3,4]],[[5,6],[7,8]]])\n",
    "\n",
    "# print(arr4.ndim)\n",
    "# Number of dimensions\n",
    "\n",
    "# dimension mean the number of axes or levels of nesting\n",
    "print(arr2.ndim)\n",
    "print(arr3.ndim)\n",
    "print(arr4.ndim)\n",
    "print(arr5.ndim)\n",
    "print(arr5.shape)\n",
    "\n",
    "# 0D = () = 5  \n",
    "# 1D = (3,) = [1,2,3]\n",
    "# 2D = (2,3) = [[1,2,3],[4,5,6]]\n",
    "# 3D = (2,2,3) = [[[]]]\n",
    "\n",
    "arr6 = np.array([[[1,2,10],[2,3,10]],[[5,6,10],[7,8,10]]])\n",
    "val=np.array(5)\n",
    "print(arr6.shape)\n",
    "print(arr6.size)\n",
    "print(arr.dtype)\n",
    "print(arr6.ndim)\n",
    "print(val.shape)\n",
    "\n"
   ]
  },
  {
   "cell_type": "code",
   "execution_count": 40,
   "id": "79cea355",
   "metadata": {},
   "outputs": [
    {
     "name": "stdout",
     "output_type": "stream",
     "text": [
      "20\n",
      "[20 40]\n"
     ]
    }
   ],
   "source": [
    "np.zeros((2,3),dtype='int')\n",
    "\n",
    "\n",
    "a = np.array([10,20,30,40,50])\n",
    "print(a[1])\n",
    "print(a[1:4:2])"
   ]
  },
  {
   "cell_type": "code",
   "execution_count": 42,
   "id": "94e0175d",
   "metadata": {},
   "outputs": [
    {
     "name": "stdout",
     "output_type": "stream",
     "text": [
      "[5 7 9]\n",
      "[ 4 10 18]\n"
     ]
    }
   ],
   "source": [
    "x= np.array([1,2,3])\n",
    "y= np.array([4,5,6])\n",
    "\n",
    "print(x+y)\n",
    "print(x*y)"
   ]
  }
 ],
 "metadata": {
  "kernelspec": {
   "display_name": "Data",
   "language": "python",
   "name": "python3"
  },
  "language_info": {
   "codemirror_mode": {
    "name": "ipython",
    "version": 3
   },
   "file_extension": ".py",
   "mimetype": "text/x-python",
   "name": "python",
   "nbconvert_exporter": "python",
   "pygments_lexer": "ipython3",
   "version": "3.13.5"
  }
 },
 "nbformat": 4,
 "nbformat_minor": 5
}
