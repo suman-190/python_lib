{
 "cells": [
  {
   "cell_type": "code",
   "execution_count": null,
   "id": "a09b025c",
   "metadata": {},
   "outputs": [
    {
     "name": "stdout",
     "output_type": "stream",
     "text": [
      "23\n"
     ]
    }
   ],
   "source": [
    "l1 = (23,234,234,435)\n",
    "\n",
    "print(l1[0])\n",
    "\n"
   ]
  },
  {
   "cell_type": "code",
   "execution_count": 9,
   "id": "f658b869",
   "metadata": {},
   "outputs": [
    {
     "name": "stdout",
     "output_type": "stream",
     "text": [
      "0\n",
      "True\n",
      "<class 'set'>\n",
      "<class 'dict'>\n",
      "<class 'set'>\n",
      "{24, 'Suman', 199}\n"
     ]
    }
   ],
   "source": [
    "set1 = {20,\"Suman\",24,24}\n",
    "\n",
    "set2={}\n",
    "\n",
    "print(len(set2))\n",
    "# To create empty set\n",
    "set3 = set()\n",
    "\n",
    "\n",
    "set1.add(199)\n",
    "\n",
    "set1.remove(20)\n",
    "\n",
    "print({\"Suman\"}.issubset(set1))\n",
    "\n",
    "print(type(set1))\n",
    "\n",
    "print(type(set2))\n",
    "\n",
    "print(type(set3))\n",
    "# Set index we can't access using index because they are in not in order\n",
    "\n",
    "print(set1)\n",
    "\n"
   ]
  },
  {
   "cell_type": "code",
   "execution_count": null,
   "id": "f5cb4e52",
   "metadata": {},
   "outputs": [
    {
     "ename": "TypeError",
     "evalue": "unhashable type: 'set'",
     "output_type": "error",
     "traceback": [
      "\u001b[31m---------------------------------------------------------------------------\u001b[39m",
      "\u001b[31mTypeError\u001b[39m                                 Traceback (most recent call last)",
      "\u001b[36mCell\u001b[39m\u001b[36m \u001b[39m\u001b[32mIn[12]\u001b[39m\u001b[32m, line 7\u001b[39m\n\u001b[32m      3\u001b[39m set1.add(\u001b[33m\"\u001b[39m\u001b[33mGermany\u001b[39m\u001b[33m\"\u001b[39m)\n\u001b[32m      4\u001b[39m \u001b[38;5;66;03m# set1.add([1,2,3,4])\u001b[39;00m\n\u001b[32m      5\u001b[39m \u001b[38;5;66;03m# It will show the error because list are unhasable\u001b[39;00m\n\u001b[32m----> \u001b[39m\u001b[32m7\u001b[39m \u001b[43mset1\u001b[49m\u001b[43m.\u001b[49m\u001b[43madd\u001b[49m\u001b[43m(\u001b[49m\u001b[43m{\u001b[49m\u001b[32;43m1\u001b[39;49m\u001b[43m,\u001b[49m\u001b[32;43m2\u001b[39;49m\u001b[43m,\u001b[49m\u001b[32;43m3\u001b[39;49m\u001b[43m,\u001b[49m\u001b[32;43m4\u001b[39;49m\u001b[43m}\u001b[49m\u001b[43m)\u001b[49m\n\u001b[32m      8\u001b[39m set1.add(\u001b[33m\"\u001b[39m\u001b[33mGermany\u001b[39m\u001b[33m\"\u001b[39m)\n\u001b[32m     10\u001b[39m \u001b[38;5;28mprint\u001b[39m(set1)\n",
      "\u001b[31mTypeError\u001b[39m: unhashable type: 'set'"
     ]
    }
   ],
   "source": [
    "set1 = {20,\"Suman\",24,24}\n",
    "\n",
    "set1.add(\"Germany\")\n",
    "# set1.add([1,2,3,4])\n",
    "# It will show the error because list are unhasable\n",
    "\n",
    "set1.add({1,2,3,4})\n",
    "\n",
    "set1.add(\"Germany\")\n",
    "\n",
    "print(set1)\n"
   ]
  },
  {
   "cell_type": "code",
   "execution_count": null,
   "id": "c00d5d13",
   "metadata": {},
   "outputs": [],
   "source": [
    "\n",
    "\n",
    "\n",
    "\n",
    "\n"
   ]
  },
  {
   "cell_type": "code",
   "execution_count": null,
   "id": "5a46cc1d",
   "metadata": {},
   "outputs": [
    {
     "name": "stdout",
     "output_type": "stream",
     "text": [
      "CALCULATOR BELOW // TO EXIT ENTER: exit\n"
     ]
    }
   ],
   "source": []
  },
  {
   "cell_type": "code",
   "execution_count": 1,
   "id": "59365b76",
   "metadata": {},
   "outputs": [
    {
     "name": "stdout",
     "output_type": "stream",
     "text": [
      "True\n"
     ]
    }
   ],
   "source": [
    "print(\"S\" in \"Suman\")"
   ]
  },
  {
   "cell_type": "code",
   "execution_count": 2,
   "id": "50ac4f51",
   "metadata": {},
   "outputs": [
    {
     "name": "stdout",
     "output_type": "stream",
     "text": [
      "[11, 222, 3, 4, 6]\n"
     ]
    }
   ],
   "source": [
    "l1 = [11,1,222,2,3,3,4,222,6,6,7,11,4,6]\n",
    "\n",
    "def find_duplicate(d1):\n",
    "    duplicates = []\n",
    "    c=1\n",
    "    for i in d1:\n",
    "        for j in d1[c:]:\n",
    "            if i == j and i not in duplicates:\n",
    "                duplicates.append(i)\n",
    "                break\n",
    "        c = c+1\n",
    "    return(duplicates)\n",
    "\n",
    "print(find_duplicate(l1))"
   ]
  },
  {
   "cell_type": "code",
   "execution_count": null,
   "id": "2be515a3",
   "metadata": {},
   "outputs": [
    {
     "name": "stdout",
     "output_type": "stream",
     "text": [
      "222\n"
     ]
    }
   ],
   "source": [
    "li = [11,222,3,5,6]\n",
    "\n",
    "\n",
    "\n",
    "max  = 0\n",
    "for i in li:\n",
    "    if i > max:\n",
    "        max= i\n",
    "\n",
    "print(max)   \n",
    "\n",
    "\n",
    "# /Write a program to check a given number is Prime\n",
    "\n",
    "\n"
   ]
  },
  {
   "cell_type": "code",
   "execution_count": null,
   "id": "89bd4a38",
   "metadata": {},
   "outputs": [
    {
     "name": "stdout",
     "output_type": "stream",
     "text": [
      "{1, 2, 3}\n",
      "{1, 2, 3, 4, 5, 6, 7, 8}\n",
      "{'Banana', 1, 2, 3, 4, 5, 'Apple'}\n",
      "{1, 2, 3, 4, 5, 'Watermelon', 'Pomegranate', 'Grape'}\n",
      "{1, 2, 3, 4, 5, 6, 7, 8, 9, 10, 11, 12}\n",
      "{1, 2, 3, 4, 5, 6, 7, 8, 9, 10, 11, 12}\n",
      "{4, 5}\n",
      "{'name': 'Suman'}\n",
      "{'n', 'o', 8, 9, 10, 11, 12, 'M', 'g', 'a'}\n"
     ]
    }
   ],
   "source": [
    "set1= {1,2,3,4,5}\n",
    "set2 = {4,5,6,7,8}\n",
    "set3 = {8,9,10,11,12}\n",
    "\n",
    "\n",
    "\n",
    "# Set Operations\n",
    "# set element which is present in A but not in B\n",
    "print(set1.difference(set2))\n",
    "print(set1.union(set2))\n",
    "print(set1.union([\"Apple\",\"Banana\"]))\n",
    "print(set1.union((\"Grape\",\"Pomegranate\",\"Watermelon\")))\n",
    "\n",
    "# Set of all elements\n",
    "print(set1.union(set2).union(set3))\n",
    "print(set1 | set2 | set3)\n",
    "print(set1.intersection(set2))\n",
    "\n",
    "# \n",
    "set3.update(\"Mango\")\n",
    "set3.update()\n",
    "\n",
    "\n",
    "bag1 = dict([(\"name\",\"Suman\")])\n",
    "print(bag1)\n",
    "print(set3)\n",
    "\n",
    "\n",
    "\n"
   ]
  },
  {
   "cell_type": "code",
   "execution_count": null,
   "id": "7b5c86ea",
   "metadata": {},
   "outputs": [
    {
     "name": "stdout",
     "output_type": "stream",
     "text": [
      "{'Watermelon', 'Lemon', 'Orange', 'Pomegranate', 'Grape'}\n",
      "{'Watermelon'}\n",
      "['ham', 'spam']\n"
     ]
    }
   ],
   "source": [
    "bag1 = {\"Watermelon\",\"Pomegranate\"}\n",
    "bag2 = {\"Lemon\",\"Grape\",\"Watermelon\"}\n",
    "bag3 = {\"Orange\"}\n",
    "\n",
    "print(bag1.union(bag1,bag2,bag3))\n",
    "print(bag1 & bag2)\n",
    "\n",
    "labels = [\"spam\",\"ham\",\"spam\"]\n",
    "unique_labels = set(labels)\n",
    "print(list(unique_labels))\n",
    "\n"
   ]
  },
  {
   "cell_type": "code",
   "execution_count": 29,
   "id": "1d25b0c9",
   "metadata": {},
   "outputs": [
    {
     "name": "stdout",
     "output_type": "stream",
     "text": [
      "{'Grape', 'Pomegranate', 'Lemon'}\n",
      "{'Grape', 'Pomegranate', 'Lemon'}\n",
      "{'Watermelon', 'Pomegranate'}\n"
     ]
    }
   ],
   "source": [
    "bag1 = {\"Watermelon\",\"Pomegranate\"}\n",
    "bag2 = {\"Lemon\",\"Grape\",\"Watermelon\"}\n",
    "\n",
    "print(bag1.symmetric_difference(bag2))\n",
    "# Symmetric difference is not allowed in multiple set\n",
    "# bag1.symmetric_difference(bag2,bag2) #Error\n",
    "# bag1.intersection_update(bag2)\n",
    "print(bag1^bag2)\n",
    "print(bag1)"
   ]
  },
  {
   "cell_type": "markdown",
   "id": "91b68838",
   "metadata": {},
   "source": [
    "```\n",
    "# Dict\n",
    "# # We use dictionaries in all our Python programs. If not directly in our code, then indi‐\n",
    "# rectly because the dict type is a fundamental part of Python’s implementation. Class\n",
    "# and instance attributes, module namespaces, and function keyword arguments are\n",
    "# some of the core Python constructs represented by dictionaries in memory\n",
    "```"
   ]
  },
  {
   "cell_type": "code",
   "execution_count": null,
   "id": "8cff0f83",
   "metadata": {},
   "outputs": [
    {
     "name": "stdout",
     "output_type": "stream",
     "text": [
      "880 Bangladesh\n",
      "55 Brazil\n",
      "86 China\n",
      "91 India\n",
      "62 Indonesia\n",
      "81 Japan\n",
      "234 Nigeria\n",
      "92 Pakistan\n",
      "7 Russia\n",
      "1 United States\n"
     ]
    }
   ],
   "source": [
    "dial_codes = [                                                  # <1>\n",
    "    (880, 'Bangladesh'),\n",
    "    (55,  'Brazil'),\n",
    "    (86,  'China'),\n",
    "    (91,  'India'),\n",
    "    (62,  'Indonesia'),\n",
    "    (81,  'Japan'),\n",
    "    (234, 'Nigeria'),\n",
    "    (92,  'Pakistan'),\n",
    "    (7,   'Russia'),\n",
    "    (1,   'United States'),\n",
    "]\n",
    "\n",
    "for i,j in dial_codes:\n",
    "    print(i,j)\n",
    "\n",
    "country_dial = {country:code for code,country in dial_codes}"
   ]
  },
  {
   "cell_type": "code",
   "execution_count": 34,
   "id": "3950c417",
   "metadata": {},
   "outputs": [
    {
     "data": {
      "text/plain": [
       "{55: 'BRAZIL', 62: 'INDONESIA', 7: 'RUSSIA', 1: 'UNITED STATES'}"
      ]
     },
     "execution_count": 34,
     "metadata": {},
     "output_type": "execute_result"
    }
   ],
   "source": [
    "{code: country.upper()\n",
    "for country, code in sorted(country_dial.items())\n",
    "if code < 70}\n"
   ]
  },
  {
   "cell_type": "code",
   "execution_count": 49,
   "id": "65a52501",
   "metadata": {},
   "outputs": [
    {
     "name": "stdout",
     "output_type": "stream",
     "text": [
      "{'spam', 'ham'}\n"
     ]
    }
   ],
   "source": [
    "lables = [\"spam\",\"ham\",\"spam\"]\n",
    "\n",
    "a1 = set(lables)\n",
    "print(a1)"
   ]
  },
  {
   "cell_type": "code",
   "execution_count": null,
   "id": "21a9e4ef",
   "metadata": {},
   "outputs": [
    {
     "name": "stdout",
     "output_type": "stream",
     "text": [
      "{24, 25, 'Suman', 20}\n",
      "False\n"
     ]
    }
   ],
   "source": [
    "\n",
    "# "
   ]
  },
  {
   "cell_type": "code",
   "execution_count": null,
   "id": "247136af",
   "metadata": {},
   "outputs": [
    {
     "name": "stdout",
     "output_type": "stream",
     "text": [
      "Suman\n",
      "None\n",
      "{'name': 'Suman', 'age': 32, 'DOB': '2000-8-26'}\n",
      "{'name': 'Suman', 'age': 32}\n",
      "dict_keys(['name', 'age'])\n",
      "dict_keys(['name', 'age'])\n",
      "dict_items([('name', 'Suman'), ('age', 32)])\n"
     ]
    }
   ],
   "source": [
    "dict1 = dict()\n",
    "dict1 = {}\n",
    "\n",
    "# student = {\"name\":\"Suman\",\"age\":32,\"name\":24}\n",
    "student = {\"name\":\"Suman\",\"age\":32}\n",
    "print(student['name'])\n",
    "\n",
    "print(student.get(\"lastname\"))\n",
    "\n",
    "student[\"DOB\"]=\"2000-8-26\"\n",
    "print(student)\n",
    "\n",
    "# Deleting \n",
    "del student[\"DOB\"]\n",
    "print(student)\n",
    "\n",
    "# Dictionary Methods\n",
    "keys = student.keys()\n",
    "print(keys)\n",
    "values = student.values()\n",
    "print(keys)\n",
    "\n",
    "items = student.items()\n",
    "print(items)\n",
    "\n"
   ]
  },
  {
   "cell_type": "code",
   "execution_count": 11,
   "id": "ea08db2a",
   "metadata": {},
   "outputs": [
    {
     "name": "stdout",
     "output_type": "stream",
     "text": [
      "{'name1': 'Sagar', 'name2': 'Sachin'}\n",
      "name1 Sagar\n",
      "name2 Sachin\n"
     ]
    },
    {
     "data": {
      "text/plain": [
       "{1: 1, 2: 4, 3: 9, 4: 16, 5: 25, 6: 36, 7: 49}"
      ]
     },
     "execution_count": 11,
     "metadata": {},
     "output_type": "execute_result"
    }
   ],
   "source": [
    "# d1 = dict(\"109\"=\"Sagar\",\"103\"=\"Sachin\") #Error we can't write constant\n",
    "\n",
    "d1 = dict(name1=\"Sagar\",name2=\"Sachin\")\n",
    "\n",
    "print(d1)\n",
    "\n",
    "\n",
    "# It will return only key element\n",
    "for i in d1:\n",
    "    print(i,d1[i])\n",
    "\n",
    "d1[132]=\"Ravi\"\n",
    "d1      \n",
    "\n",
    "# concatinaion and Repetition Operator not supported\n",
    "# comaprision Operator not supported >,<=,>=, not supported\n",
    "#  ==,d1!=d2\n",
    "\n",
    "d1.pop(\"name2\")  #Pop will return the element\n",
    "d1\n",
    "\n",
    "d1.popitem()  #It will delete last element\n",
    "d1\n",
    "\n",
    "d3 = {a:a**2 for a in range(1,8,1)}\n",
    "d3"
   ]
  },
  {
   "cell_type": "code",
   "execution_count": null,
   "id": "d02088f0",
   "metadata": {},
   "outputs": [
    {
     "name": "stdout",
     "output_type": "stream",
     "text": [
      "Sum is 46\n",
      "Sum is 9\n"
     ]
    }
   ],
   "source": [
    "# Funcition\n",
    "# Positinal Argument\n",
    "# Default Argument\n",
    "\n",
    "def f1(a,b,c=0):\n",
    "    d= a+b+c\n",
    "    print(\"Sum is\",d)\n",
    "\n",
    "\n",
    "f1(23,23)\n",
    "\n",
    "f1(2,3,4)\n",
    "\n",
    "# Default value indicate that the function argument will take that value if no argument\n",
    "# value is passed during the during the function call\n",
    "# The default value is assigned by using the assignment(=) operator\n",
    "\n",
    "# you cannot have a non-default argument after a default argument\n",
    "\n",
    "\n",
    "def greet(name=\"Suman\", age):\n",
    "    print(f\"Hello {name}, you are {age} years old.\")\n"
   ]
  },
  {
   "cell_type": "code",
   "execution_count": null,
   "id": "c475324d",
   "metadata": {},
   "outputs": [
    {
     "name": "stdout",
     "output_type": "stream",
     "text": [
      "2 3\n",
      "23 24\n"
     ]
    }
   ],
   "source": [
    "# Positional vs Keyword argument\n",
    "\n",
    "def f1(a,b):\n",
    "    print(a,b)\n",
    "\n",
    "f1(b=3,a=2)\n",
    "\n",
    "\n",
    "f1(23,b=24)\n",
    "f1(a=23,24)\n",
    "# After positional argument keyword argument can come but not opposite \n",
    "\n",
    "# you cannot have positional arguments after keyword arguments \n",
    "# Positional argument cannot appear after keyword arguments\n"
   ]
  },
  {
   "cell_type": "code",
   "execution_count": null,
   "id": "ca5c2d6f",
   "metadata": {},
   "outputs": [
    {
     "name": "stdout",
     "output_type": "stream",
     "text": [
      "(2, 3, 4, 5)\n"
     ]
    }
   ],
   "source": [
    "# Default argument\n",
    "# Positional argument\n",
    "\n",
    "def power(a,b=2):\n",
    "    return a**b\n",
    "\n",
    "print(power(2))\n",
    "# keyword argument\n",
    "print(power(b=4,a=2))"
   ]
  },
  {
   "cell_type": "code",
   "execution_count": null,
   "id": "6bdd12f0",
   "metadata": {},
   "outputs": [],
   "source": [
    "# allows us to pass the varible number of arguments\n",
    "\n",
    "def sum_number(*args):\n",
    "    print(type(args))\n",
    "    sum = 0\n",
    "    for i in args:\n",
    "        sum=sum+i\n",
    "    return sum    \n",
    "\n",
    "sum_number(2,3,4,5,6,7,8)"
   ]
  },
  {
   "cell_type": "code",
   "execution_count": null,
   "id": "4bbf51c6",
   "metadata": {},
   "outputs": [],
   "source": [
    "# allows us to pass the varible number of keyword arguments\n",
    "def user_info(**kwargs):\n",
    "    print(kwargs)\n",
    "    for key,val in kwargs.items():\n",
    "        print(key,val)\n",
    "\n",
    "    for key in kwargs.keys():\n",
    "        print(key)\n",
    "\n",
    "    for val in kwargs.values():\n",
    "        print(val)\n",
    "        \n",
    "            \n",
    "\n",
    "         \n",
    "    \n",
    "\n",
    "\n",
    "user_info(name=\"Suman Bhandari\",age=23)    "
   ]
  },
  {
   "cell_type": "code",
   "execution_count": null,
   "id": "b507b1ea",
   "metadata": {},
   "outputs": [],
   "source": [
    "def multiple_argu(val,*args,**kwargs):\n",
    "    print(val)\n",
    "    print(args)\n",
    "    print(kwargs)\n",
    "\n",
    "multiple_argu(23,34,564,34,name=\"Suman\",age=\"23\")"
   ]
  },
  {
   "cell_type": "code",
   "execution_count": null,
   "id": "52908347",
   "metadata": {},
   "outputs": [],
   "source": [
    "x=2\n",
    "def fun1(a):\n",
    "    \n",
    "    y=x+2\n",
    "    print(y)\n",
    "    return a\n",
    "\n",
    "def fun2():\n",
    "    print(\"This is function 2\")\n",
    "\n",
    "func = fun1(fun2)\n",
    "print(func())\n",
    "print(x)"
   ]
  },
  {
   "cell_type": "code",
   "execution_count": null,
   "id": "2dc9052e",
   "metadata": {},
   "outputs": [],
   "source": [
    "def say_hello(name,branch):\n",
    "    print(\"Hello\",name)\n",
    "\n",
    "\n",
    "say_hello(\"Suman\",\"CS\")\n",
    "\n"
   ]
  },
  {
   "cell_type": "code",
   "execution_count": null,
   "id": "c7095a97",
   "metadata": {},
   "outputs": [
    {
     "name": "stdout",
     "output_type": "stream",
     "text": [
      "Result 11\n"
     ]
    }
   ],
   "source": [
    "def f1(a,b,c):\n",
    "    res = a+b+c\n",
    "    print(\"Result\",res)\n",
    "\n",
    "f1(5,6)    \n",
    "\n",
    "# You can't have a non- default argument after a default argument"
   ]
  },
  {
   "cell_type": "code",
   "execution_count": null,
   "id": "75a36f35",
   "metadata": {},
   "outputs": [
    {
     "ename": "SyntaxError",
     "evalue": "positional argument follows keyword argument (2973082923.py, line 6)",
     "output_type": "error",
     "traceback": [
      "  \u001b[36mCell\u001b[39m\u001b[36m \u001b[39m\u001b[32mIn[7]\u001b[39m\u001b[32m, line 6\u001b[39m\n\u001b[31m    \u001b[39m\u001b[31mgreet(name=\"Suman\",24)\u001b[39m\n                         ^\n\u001b[31mSyntaxError\u001b[39m\u001b[31m:\u001b[39m positional argument follows keyword argument\n"
     ]
    }
   ],
   "source": [
    "def greet(name,age):\n",
    "    print(f\"HEllo {name} you are {age} year old\")\n",
    "\n",
    "\n",
    "\n",
    "greet(\"Suman\",age=24)\n",
    "\n",
    "\n"
   ]
  },
  {
   "cell_type": "code",
   "execution_count": null,
   "id": "9beedf37",
   "metadata": {},
   "outputs": [
    {
     "name": "stdout",
     "output_type": "stream",
     "text": [
      "2\n",
      "3\n",
      "4\n",
      "5\n",
      "6\n",
      "7\n",
      "8\n",
      "9\n"
     ]
    }
   ],
   "source": [
    "def fun1(*args):\n",
    "    for i in  args:\n",
    "        print(i)\n",
    "\n",
    "fun1(2,3,4,5,6,7,8,9)\n",
    "\n"
   ]
  },
  {
   "cell_type": "code",
   "execution_count": 13,
   "id": "0ac4a4a3",
   "metadata": {},
   "outputs": [
    {
     "name": "stdout",
     "output_type": "stream",
     "text": [
      "('name', 'Suman')\n",
      "('age', 24)\n",
      "('address', 'Butwal')\n"
     ]
    }
   ],
   "source": [
    "def fun2(**kwars):\n",
    "    for i in kwars.items():\n",
    "        \n",
    "        print(i)\n",
    "\n",
    "\n",
    "fun2(name=\"Suman\",age=24,address=\"Butwal\")"
   ]
  },
  {
   "cell_type": "code",
   "execution_count": null,
   "id": "7dc0e3e6",
   "metadata": {},
   "outputs": [],
   "source": [
    "def multiple_arg(val,*args,**kwars):\n",
    "    print(val)\n",
    "    print(args)\n",
    "    print(kwars)\n",
    "\n",
    "\n",
    "multiple_arg(12,23,4,5,6,78,75,name=\"Suman\",SurName=\"Bhandari\")"
   ]
  },
  {
   "cell_type": "code",
   "execution_count": 19,
   "id": "03252cef",
   "metadata": {},
   "outputs": [
    {
     "name": "stdout",
     "output_type": "stream",
     "text": [
      "('name', 'Suman')\n"
     ]
    },
    {
     "data": {
      "text/plain": [
       "{}"
      ]
     },
     "execution_count": 19,
     "metadata": {},
     "output_type": "execute_result"
    }
   ],
   "source": [
    "d1 = {\"name\":\"Suman\",\"age\":\"24\"}\n",
    "\n",
    "d1.pop(\"age\")\n",
    "\n",
    "print(d1.popitem())\n",
    "d1"
   ]
  },
  {
   "cell_type": "code",
   "execution_count": 22,
   "id": "d642deb0",
   "metadata": {},
   "outputs": [
    {
     "name": "stdout",
     "output_type": "stream",
     "text": [
      "I m inside F1\n",
      "I am Inside Fun2\n",
      "I am inside Fun3\n",
      "I am inside fun4\n"
     ]
    }
   ],
   "source": [
    "def f1():\n",
    "    print(\"I m inside F1\")\n",
    "\n",
    "\n",
    "def f2(a):\n",
    "    a()\n",
    "    def f3():\n",
    "        print(\"I am inside Fun3\")\n",
    "        def f4():\n",
    "            print(\"I am inside fun4\")\n",
    "        return f4    \n",
    "    print(\"I am Inside Fun2\")\n",
    "    return f3\n",
    "\n",
    "\n",
    "a = f2(f1)\n",
    "\n",
    "b= a()\n",
    "b()\n"
   ]
  },
  {
   "cell_type": "code",
   "execution_count": null,
   "id": "5a276377",
   "metadata": {},
   "outputs": [
    {
     "name": "stdout",
     "output_type": "stream",
     "text": [
      "cherry\n"
     ]
    }
   ],
   "source": [
    "import time\n",
    "\n",
    "my_array = [\"apple\",\"banana\",\"cherry\",\"Mango\"]\n",
    "\n",
    "\n",
    "index = int(time.time())%len(my_array)\n",
    "\n",
    "print(my_array[index])\n",
    "\n",
    "\n",
    "\n",
    "\n",
    "\n",
    "\n",
    "\n"
   ]
  }
 ],
 "metadata": {
  "kernelspec": {
   "display_name": "python_lib",
   "language": "python",
   "name": "python3"
  },
  "language_info": {
   "codemirror_mode": {
    "name": "ipython",
    "version": 3
   },
   "file_extension": ".py",
   "mimetype": "text/x-python",
   "name": "python",
   "nbconvert_exporter": "python",
   "pygments_lexer": "ipython3",
   "version": "3.11.7"
  }
 },
 "nbformat": 4,
 "nbformat_minor": 5
}
