{
 "cells": [
  {
   "cell_type": "code",
   "execution_count": null,
   "id": "a09b025c",
   "metadata": {},
   "outputs": [
    {
     "name": "stdout",
     "output_type": "stream",
     "text": [
      "23\n"
     ]
    }
   ],
   "source": [
    "l1 = (23,234,234,435)\n",
    "\n",
    "print(l1[0])\n",
    "\n"
   ]
  },
  {
   "cell_type": "code",
   "execution_count": 9,
   "id": "f658b869",
   "metadata": {},
   "outputs": [
    {
     "name": "stdout",
     "output_type": "stream",
     "text": [
      "0\n",
      "True\n",
      "<class 'set'>\n",
      "<class 'dict'>\n",
      "<class 'set'>\n",
      "{24, 'Suman', 199}\n"
     ]
    }
   ],
   "source": [
    "set1 = {20,\"Suman\",24,24}\n",
    "\n",
    "set2={}\n",
    "\n",
    "print(len(set2))\n",
    "# To create empty set\n",
    "set3 = set()\n",
    "\n",
    "\n",
    "set1.add(199)\n",
    "\n",
    "set1.remove(20)\n",
    "\n",
    "print({\"Suman\"}.issubset(set1))\n",
    "\n",
    "print(type(set1))\n",
    "\n",
    "print(type(set2))\n",
    "\n",
    "print(type(set3))\n",
    "# Set index we can't access using index because they are in not in order\n",
    "\n",
    "print(set1)\n",
    "\n"
   ]
  },
  {
   "cell_type": "code",
   "execution_count": null,
   "id": "f5cb4e52",
   "metadata": {},
   "outputs": [
    {
     "ename": "TypeError",
     "evalue": "unhashable type: 'set'",
     "output_type": "error",
     "traceback": [
      "\u001b[31m---------------------------------------------------------------------------\u001b[39m",
      "\u001b[31mTypeError\u001b[39m                                 Traceback (most recent call last)",
      "\u001b[36mCell\u001b[39m\u001b[36m \u001b[39m\u001b[32mIn[12]\u001b[39m\u001b[32m, line 7\u001b[39m\n\u001b[32m      3\u001b[39m set1.add(\u001b[33m\"\u001b[39m\u001b[33mGermany\u001b[39m\u001b[33m\"\u001b[39m)\n\u001b[32m      4\u001b[39m \u001b[38;5;66;03m# set1.add([1,2,3,4])\u001b[39;00m\n\u001b[32m      5\u001b[39m \u001b[38;5;66;03m# It will show the error because list are unhasable\u001b[39;00m\n\u001b[32m----> \u001b[39m\u001b[32m7\u001b[39m \u001b[43mset1\u001b[49m\u001b[43m.\u001b[49m\u001b[43madd\u001b[49m\u001b[43m(\u001b[49m\u001b[43m{\u001b[49m\u001b[32;43m1\u001b[39;49m\u001b[43m,\u001b[49m\u001b[32;43m2\u001b[39;49m\u001b[43m,\u001b[49m\u001b[32;43m3\u001b[39;49m\u001b[43m,\u001b[49m\u001b[32;43m4\u001b[39;49m\u001b[43m}\u001b[49m\u001b[43m)\u001b[49m\n\u001b[32m      8\u001b[39m set1.add(\u001b[33m\"\u001b[39m\u001b[33mGermany\u001b[39m\u001b[33m\"\u001b[39m)\n\u001b[32m     10\u001b[39m \u001b[38;5;28mprint\u001b[39m(set1)\n",
      "\u001b[31mTypeError\u001b[39m: unhashable type: 'set'"
     ]
    }
   ],
   "source": [
    "set1 = {20,\"Suman\",24,24}\n",
    "\n",
    "set1.add(\"Germany\")\n",
    "# set1.add([1,2,3,4])\n",
    "# It will show the error because list are unhasable\n",
    "\n",
    "set1.add({1,2,3,4})\n",
    "\n",
    "set1.add(\"Germany\")\n",
    "\n",
    "print(set1)\n"
   ]
  },
  {
   "cell_type": "code",
   "execution_count": null,
   "id": "c00d5d13",
   "metadata": {},
   "outputs": [],
   "source": [
    "\n",
    "\n",
    "\n",
    "\n",
    "\n"
   ]
  },
  {
   "cell_type": "code",
   "execution_count": null,
   "id": "5a46cc1d",
   "metadata": {},
   "outputs": [
    {
     "name": "stdout",
     "output_type": "stream",
     "text": [
      "CALCULATOR BELOW // TO EXIT ENTER: exit\n"
     ]
    }
   ],
   "source": []
  },
  {
   "cell_type": "code",
   "execution_count": 1,
   "id": "59365b76",
   "metadata": {},
   "outputs": [
    {
     "name": "stdout",
     "output_type": "stream",
     "text": [
      "True\n"
     ]
    }
   ],
   "source": [
    "print(\"S\" in \"Suman\")"
   ]
  },
  {
   "cell_type": "code",
   "execution_count": 2,
   "id": "50ac4f51",
   "metadata": {},
   "outputs": [
    {
     "name": "stdout",
     "output_type": "stream",
     "text": [
      "[11, 222, 3, 4, 6]\n"
     ]
    }
   ],
   "source": [
    "l1 = [11,1,222,2,3,3,4,222,6,6,7,11,4,6]\n",
    "\n",
    "def find_duplicate(d1):\n",
    "    duplicates = []\n",
    "    c=1\n",
    "    for i in d1:\n",
    "        for j in d1[c:]:\n",
    "            if i == j and i not in duplicates:\n",
    "                duplicates.append(i)\n",
    "                break\n",
    "        c = c+1\n",
    "    return(duplicates)\n",
    "\n",
    "print(find_duplicate(l1))"
   ]
  },
  {
   "cell_type": "code",
   "execution_count": null,
   "id": "2be515a3",
   "metadata": {},
   "outputs": [
    {
     "name": "stdout",
     "output_type": "stream",
     "text": [
      "222\n"
     ]
    }
   ],
   "source": [
    "li = [11,222,3,5,6]\n",
    "\n",
    "\n",
    "\n",
    "max  = 0\n",
    "for i in li:\n",
    "    if i > max:\n",
    "        max= i\n",
    "\n",
    "print(max)   \n",
    "\n",
    "\n",
    "# /Write a program to check a given number is Prime\n",
    "\n",
    "\n"
   ]
  },
  {
   "cell_type": "code",
   "execution_count": null,
   "id": "89bd4a38",
   "metadata": {},
   "outputs": [
    {
     "name": "stdout",
     "output_type": "stream",
     "text": [
      "{1, 2, 3}\n",
      "{1, 2, 3, 4, 5, 6, 7, 8}\n",
      "{'Banana', 1, 2, 3, 4, 5, 'Apple'}\n",
      "{1, 2, 3, 4, 5, 'Watermelon', 'Pomegranate', 'Grape'}\n",
      "{1, 2, 3, 4, 5, 6, 7, 8, 9, 10, 11, 12}\n",
      "{1, 2, 3, 4, 5, 6, 7, 8, 9, 10, 11, 12}\n",
      "{4, 5}\n",
      "{'name': 'Suman'}\n",
      "{'n', 'o', 8, 9, 10, 11, 12, 'M', 'g', 'a'}\n"
     ]
    }
   ],
   "source": [
    "set1= {1,2,3,4,5}\n",
    "set2 = {4,5,6,7,8}\n",
    "set3 = {8,9,10,11,12}\n",
    "\n",
    "\n",
    "\n",
    "# Set Operations\n",
    "# set element which is present in A but not in B\n",
    "print(set1.difference(set2))\n",
    "print(set1.union(set2))\n",
    "print(set1.union([\"Apple\",\"Banana\"]))\n",
    "print(set1.union((\"Grape\",\"Pomegranate\",\"Watermelon\")))\n",
    "\n",
    "# Set of all elements\n",
    "print(set1.union(set2).union(set3))\n",
    "print(set1 | set2 | set3)\n",
    "print(set1.intersection(set2))\n",
    "\n",
    "# \n",
    "set3.update(\"Mango\")\n",
    "set3.update()\n",
    "\n",
    "\n",
    "bag1 = dict([(\"name\",\"Suman\")])\n",
    "print(bag1)\n",
    "print(set3)\n",
    "\n",
    "\n",
    "\n"
   ]
  },
  {
   "cell_type": "code",
   "execution_count": null,
   "id": "7b5c86ea",
   "metadata": {},
   "outputs": [
    {
     "name": "stdout",
     "output_type": "stream",
     "text": [
      "{'Watermelon', 'Lemon', 'Orange', 'Pomegranate', 'Grape'}\n",
      "{'Watermelon'}\n",
      "['ham', 'spam']\n"
     ]
    }
   ],
   "source": [
    "bag1 = {\"Watermelon\",\"Pomegranate\"}\n",
    "bag2 = {\"Lemon\",\"Grape\",\"Watermelon\"}\n",
    "bag3 = {\"Orange\"}\n",
    "\n",
    "print(bag1.union(bag1,bag2,bag3))\n",
    "print(bag1 & bag2)\n",
    "\n",
    "labels = [\"spam\",\"ham\",\"spam\"]\n",
    "unique_labels = set(labels)\n",
    "print(list(unique_labels))\n",
    "\n"
   ]
  },
  {
   "cell_type": "code",
   "execution_count": 29,
   "id": "1d25b0c9",
   "metadata": {},
   "outputs": [
    {
     "name": "stdout",
     "output_type": "stream",
     "text": [
      "{'Grape', 'Pomegranate', 'Lemon'}\n",
      "{'Grape', 'Pomegranate', 'Lemon'}\n",
      "{'Watermelon', 'Pomegranate'}\n"
     ]
    }
   ],
   "source": [
    "bag1 = {\"Watermelon\",\"Pomegranate\"}\n",
    "bag2 = {\"Lemon\",\"Grape\",\"Watermelon\"}\n",
    "\n",
    "print(bag1.symmetric_difference(bag2))\n",
    "# Symmetric difference is not allowed in multiple set\n",
    "# bag1.symmetric_difference(bag2,bag2) #Error\n",
    "# bag1.intersection_update(bag2)\n",
    "print(bag1^bag2)\n",
    "print(bag1)"
   ]
  },
  {
   "cell_type": "markdown",
   "id": "91b68838",
   "metadata": {},
   "source": [
    "```\n",
    "# Dict\n",
    "# # We use dictionaries in all our Python programs. If not directly in our code, then indi‐\n",
    "# rectly because the dict type is a fundamental part of Python’s implementation. Class\n",
    "# and instance attributes, module namespaces, and function keyword arguments are\n",
    "# some of the core Python constructs represented by dictionaries in memory\n",
    "```"
   ]
  },
  {
   "cell_type": "code",
   "execution_count": 31,
   "id": "8cff0f83",
   "metadata": {},
   "outputs": [
    {
     "name": "stdout",
     "output_type": "stream",
     "text": [
      "880 Bangladesh\n",
      "55 Brazil\n",
      "86 China\n",
      "91 India\n",
      "62 Indonesia\n",
      "81 Japan\n",
      "234 Nigeria\n",
      "92 Pakistan\n",
      "7 Russia\n",
      "1 United States\n"
     ]
    }
   ],
   "source": [
    "dial_codes = [                                                  # <1>\n",
    "    (880, 'Bangladesh'),\n",
    "    (55,  'Brazil'),\n",
    "    (86,  'China'),\n",
    "    (91,  'India'),\n",
    "    (62,  'Indonesia'),\n",
    "    (81,  'Japan'),\n",
    "    (234, 'Nigeria'),\n",
    "    (92,  'Pakistan'),\n",
    "    (7,   'Russia'),\n",
    "    (1,   'United States'),\n",
    "]\n",
    "\n",
    "for i,j in dial_codes:\n",
    "    print(i,j)\n",
    "\n",
    "country_dial = {country:code for code,country in dial_codes}"
   ]
  },
  {
   "cell_type": "code",
   "execution_count": 34,
   "id": "3950c417",
   "metadata": {},
   "outputs": [
    {
     "data": {
      "text/plain": [
       "{55: 'BRAZIL', 62: 'INDONESIA', 7: 'RUSSIA', 1: 'UNITED STATES'}"
      ]
     },
     "execution_count": 34,
     "metadata": {},
     "output_type": "execute_result"
    }
   ],
   "source": [
    "{code: country.upper()\n",
    "for country, code in sorted(country_dial.items())\n",
    "if code < 70}\n"
   ]
  }
 ],
 "metadata": {
  "kernelspec": {
   "display_name": ".venv",
   "language": "python",
   "name": "python3"
  },
  "language_info": {
   "codemirror_mode": {
    "name": "ipython",
    "version": 3
   },
   "file_extension": ".py",
   "mimetype": "text/x-python",
   "name": "python",
   "nbconvert_exporter": "python",
   "pygments_lexer": "ipython3",
   "version": "3.11.7"
  }
 },
 "nbformat": 4,
 "nbformat_minor": 5
}
