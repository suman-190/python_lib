{
 "cells": [
  {
   "cell_type": "code",
   "execution_count": 25,
   "id": "aabfbc84",
   "metadata": {},
   "outputs": [],
   "source": [
    "import numpy as np \n",
    "import pandas as pd\n"
   ]
  },
  {
   "cell_type": "code",
   "execution_count": 26,
   "id": "1830f3f3",
   "metadata": {},
   "outputs": [
    {
     "data": {
      "text/html": [
       "<div>\n",
       "<style scoped>\n",
       "    .dataframe tbody tr th:only-of-type {\n",
       "        vertical-align: middle;\n",
       "    }\n",
       "\n",
       "    .dataframe tbody tr th {\n",
       "        vertical-align: top;\n",
       "    }\n",
       "\n",
       "    .dataframe thead th {\n",
       "        text-align: right;\n",
       "    }\n",
       "</style>\n",
       "<table border=\"1\" class=\"dataframe\">\n",
       "  <thead>\n",
       "    <tr style=\"text-align: right;\">\n",
       "      <th></th>\n",
       "      <th>Date</th>\n",
       "      <th>Ticker</th>\n",
       "      <th>Open</th>\n",
       "      <th>High</th>\n",
       "      <th>Low</th>\n",
       "      <th>Close</th>\n",
       "      <th>Volume</th>\n",
       "    </tr>\n",
       "  </thead>\n",
       "  <tbody>\n",
       "    <tr>\n",
       "      <th>0</th>\n",
       "      <td>2015-01-01</td>\n",
       "      <td>AAPL</td>\n",
       "      <td>101.031849</td>\n",
       "      <td>101.329723</td>\n",
       "      <td>98.852354</td>\n",
       "      <td>101.197410</td>\n",
       "      <td>344567.0</td>\n",
       "    </tr>\n",
       "    <tr>\n",
       "      <th>1</th>\n",
       "      <td>2015-01-02</td>\n",
       "      <td>AAPL</td>\n",
       "      <td>100.866496</td>\n",
       "      <td>100.866496</td>\n",
       "      <td>99.568981</td>\n",
       "      <td>101.220064</td>\n",
       "      <td>310521.0</td>\n",
       "    </tr>\n",
       "    <tr>\n",
       "      <th>2</th>\n",
       "      <td>2015-01-05</td>\n",
       "      <td>AAPL</td>\n",
       "      <td>101.164489</td>\n",
       "      <td>101.176821</td>\n",
       "      <td>100.920124</td>\n",
       "      <td>101.339872</td>\n",
       "      <td>NaN</td>\n",
       "    </tr>\n",
       "    <tr>\n",
       "      <th>3</th>\n",
       "      <td>2015-01-06</td>\n",
       "      <td>AAPL</td>\n",
       "      <td>NaN</td>\n",
       "      <td>103.203859</td>\n",
       "      <td>102.287356</td>\n",
       "      <td>101.777905</td>\n",
       "      <td>295025.0</td>\n",
       "    </tr>\n",
       "    <tr>\n",
       "      <th>4</th>\n",
       "      <td>2015-01-07</td>\n",
       "      <td>AAPL</td>\n",
       "      <td>102.744728</td>\n",
       "      <td>104.050309</td>\n",
       "      <td>102.211701</td>\n",
       "      <td>102.090310</td>\n",
       "      <td>439080.0</td>\n",
       "    </tr>\n",
       "    <tr>\n",
       "      <th>...</th>\n",
       "      <td>...</td>\n",
       "      <td>...</td>\n",
       "      <td>...</td>\n",
       "      <td>...</td>\n",
       "      <td>...</td>\n",
       "      <td>...</td>\n",
       "      <td>...</td>\n",
       "    </tr>\n",
       "    <tr>\n",
       "      <th>32865</th>\n",
       "      <td>2021-08-02</td>\n",
       "      <td>AMZN</td>\n",
       "      <td>184.443237</td>\n",
       "      <td>185.375089</td>\n",
       "      <td>183.176491</td>\n",
       "      <td>183.087397</td>\n",
       "      <td>581356.0</td>\n",
       "    </tr>\n",
       "    <tr>\n",
       "      <th>32866</th>\n",
       "      <td>2017-01-24</td>\n",
       "      <td>AAPL</td>\n",
       "      <td>92.780364</td>\n",
       "      <td>93.092012</td>\n",
       "      <td>91.238510</td>\n",
       "      <td>NaN</td>\n",
       "      <td>754158.0</td>\n",
       "    </tr>\n",
       "    <tr>\n",
       "      <th>32867</th>\n",
       "      <td>2018-03-09</td>\n",
       "      <td>AMZN</td>\n",
       "      <td>98.074613</td>\n",
       "      <td>99.154029</td>\n",
       "      <td>96.203177</td>\n",
       "      <td>97.487616</td>\n",
       "      <td>76911.0</td>\n",
       "    </tr>\n",
       "    <tr>\n",
       "      <th>32868</th>\n",
       "      <td>2018-05-02</td>\n",
       "      <td>LTC/USD</td>\n",
       "      <td>103.443224</td>\n",
       "      <td>105.575739</td>\n",
       "      <td>103.159286</td>\n",
       "      <td>NaN</td>\n",
       "      <td>552764.0</td>\n",
       "    </tr>\n",
       "    <tr>\n",
       "      <th>32869</th>\n",
       "      <td>2020-09-18</td>\n",
       "      <td>ETH/USD</td>\n",
       "      <td>164.755329</td>\n",
       "      <td>166.936724</td>\n",
       "      <td>164.755329</td>\n",
       "      <td>164.722026</td>\n",
       "      <td>816832.0</td>\n",
       "    </tr>\n",
       "  </tbody>\n",
       "</table>\n",
       "<p>32870 rows × 7 columns</p>\n",
       "</div>"
      ],
      "text/plain": [
       "             Date   Ticker        Open        High         Low       Close  \\\n",
       "0      2015-01-01     AAPL  101.031849  101.329723   98.852354  101.197410   \n",
       "1      2015-01-02     AAPL  100.866496  100.866496   99.568981  101.220064   \n",
       "2      2015-01-05     AAPL  101.164489  101.176821  100.920124  101.339872   \n",
       "3      2015-01-06     AAPL         NaN  103.203859  102.287356  101.777905   \n",
       "4      2015-01-07     AAPL  102.744728  104.050309  102.211701  102.090310   \n",
       "...           ...      ...         ...         ...         ...         ...   \n",
       "32865  2021-08-02     AMZN  184.443237  185.375089  183.176491  183.087397   \n",
       "32866  2017-01-24     AAPL   92.780364   93.092012   91.238510         NaN   \n",
       "32867  2018-03-09     AMZN   98.074613   99.154029   96.203177   97.487616   \n",
       "32868  2018-05-02  LTC/USD  103.443224  105.575739  103.159286         NaN   \n",
       "32869  2020-09-18  ETH/USD  164.755329  166.936724  164.755329  164.722026   \n",
       "\n",
       "         Volume  \n",
       "0      344567.0  \n",
       "1      310521.0  \n",
       "2           NaN  \n",
       "3      295025.0  \n",
       "4      439080.0  \n",
       "...         ...  \n",
       "32865  581356.0  \n",
       "32866  754158.0  \n",
       "32867   76911.0  \n",
       "32868  552764.0  \n",
       "32869  816832.0  \n",
       "\n",
       "[32870 rows x 7 columns]"
      ]
     },
     "execution_count": 26,
     "metadata": {},
     "output_type": "execute_result"
    }
   ],
   "source": [
    "comb_df = pd.read_csv(\"combined_dataset.csv\")\n",
    "\n",
    "comb_df"
   ]
  },
  {
   "cell_type": "code",
   "execution_count": 27,
   "id": "77956fff",
   "metadata": {},
   "outputs": [
    {
     "data": {
      "text/plain": [
       "np.float64(-0.036658987641121826)"
      ]
     },
     "execution_count": 27,
     "metadata": {},
     "output_type": "execute_result"
    }
   ],
   "source": [
    "apple_Stock = comb_df[comb_df[\"Ticker\"]==\"AMZN\"]\n",
    "\n",
    "# apple_Stock.isna().sum()\n",
    "\n",
    "(apple_Stock[\"Close\"].iloc[-1]-apple_Stock[\"Close\"].iloc[0])/apple_Stock[\"Close\"].iloc[0]"
   ]
  },
  {
   "cell_type": "code",
   "execution_count": 28,
   "id": "abcf8eca",
   "metadata": {},
   "outputs": [
    {
     "data": {
      "text/html": [
       "<div>\n",
       "<style scoped>\n",
       "    .dataframe tbody tr th:only-of-type {\n",
       "        vertical-align: middle;\n",
       "    }\n",
       "\n",
       "    .dataframe tbody tr th {\n",
       "        vertical-align: top;\n",
       "    }\n",
       "\n",
       "    .dataframe thead th {\n",
       "        text-align: right;\n",
       "    }\n",
       "</style>\n",
       "<table border=\"1\" class=\"dataframe\">\n",
       "  <thead>\n",
       "    <tr style=\"text-align: right;\">\n",
       "      <th></th>\n",
       "      <th>Name</th>\n",
       "      <th>Overall Return</th>\n",
       "    </tr>\n",
       "  </thead>\n",
       "  <tbody>\n",
       "    <tr>\n",
       "      <th>9</th>\n",
       "      <td>USD/CAD</td>\n",
       "      <td>0.822767</td>\n",
       "    </tr>\n",
       "    <tr>\n",
       "      <th>12</th>\n",
       "      <td>XRP/USD</td>\n",
       "      <td>0.810309</td>\n",
       "    </tr>\n",
       "    <tr>\n",
       "      <th>8</th>\n",
       "      <td>AUD/USD</td>\n",
       "      <td>0.789887</td>\n",
       "    </tr>\n",
       "    <tr>\n",
       "      <th>4</th>\n",
       "      <td>TSLA</td>\n",
       "      <td>0.773093</td>\n",
       "    </tr>\n",
       "    <tr>\n",
       "      <th>11</th>\n",
       "      <td>ETH/USD</td>\n",
       "      <td>0.627730</td>\n",
       "    </tr>\n",
       "    <tr>\n",
       "      <th>6</th>\n",
       "      <td>GBP/USD</td>\n",
       "      <td>0.626123</td>\n",
       "    </tr>\n",
       "    <tr>\n",
       "      <th>5</th>\n",
       "      <td>EUR/USD</td>\n",
       "      <td>0.451737</td>\n",
       "    </tr>\n",
       "    <tr>\n",
       "      <th>2</th>\n",
       "      <td>MSFT</td>\n",
       "      <td>-0.034771</td>\n",
       "    </tr>\n",
       "    <tr>\n",
       "      <th>3</th>\n",
       "      <td>AMZN</td>\n",
       "      <td>-0.036659</td>\n",
       "    </tr>\n",
       "    <tr>\n",
       "      <th>14</th>\n",
       "      <td>BCH/USD</td>\n",
       "      <td>-0.058540</td>\n",
       "    </tr>\n",
       "    <tr>\n",
       "      <th>10</th>\n",
       "      <td>BTC/USD</td>\n",
       "      <td>-0.079447</td>\n",
       "    </tr>\n",
       "    <tr>\n",
       "      <th>1</th>\n",
       "      <td>GOOG</td>\n",
       "      <td>-0.084374</td>\n",
       "    </tr>\n",
       "    <tr>\n",
       "      <th>0</th>\n",
       "      <td>AAPL</td>\n",
       "      <td>NaN</td>\n",
       "    </tr>\n",
       "    <tr>\n",
       "      <th>7</th>\n",
       "      <td>USD/JPY</td>\n",
       "      <td>NaN</td>\n",
       "    </tr>\n",
       "    <tr>\n",
       "      <th>13</th>\n",
       "      <td>LTC/USD</td>\n",
       "      <td>NaN</td>\n",
       "    </tr>\n",
       "  </tbody>\n",
       "</table>\n",
       "</div>"
      ],
      "text/plain": [
       "       Name  Overall Return\n",
       "9   USD/CAD        0.822767\n",
       "12  XRP/USD        0.810309\n",
       "8   AUD/USD        0.789887\n",
       "4      TSLA        0.773093\n",
       "11  ETH/USD        0.627730\n",
       "6   GBP/USD        0.626123\n",
       "5   EUR/USD        0.451737\n",
       "2      MSFT       -0.034771\n",
       "3      AMZN       -0.036659\n",
       "14  BCH/USD       -0.058540\n",
       "10  BTC/USD       -0.079447\n",
       "1      GOOG       -0.084374\n",
       "0      AAPL             NaN\n",
       "7   USD/JPY             NaN\n",
       "13  LTC/USD             NaN"
      ]
     },
     "execution_count": 28,
     "metadata": {},
     "output_type": "execute_result"
    }
   ],
   "source": [
    "names = comb_df[\"Ticker\"].unique()\n",
    "\n",
    "performance = []\n",
    "# apple_Stock = comb_df[comb_df[\"Ticker\"]==\"AMZN\"]\n",
    "for name in names:\n",
    "    stock = comb_df[comb_df[\"Ticker\"]==name]\n",
    "    overall_return = (stock[\"Close\"].iloc[-1]-stock[\"Close\"].iloc[0])/stock[\"Close\"].iloc[0]\n",
    "    performance.append({\"Name\":name,\"Overall Return\":overall_return})\n",
    "\n",
    "\n",
    "df = pd.DataFrame(performance).sort_values(\"Overall Return\",ascending=False)\n",
    "\n",
    "df"
   ]
  },
  {
   "cell_type": "code",
   "execution_count": 29,
   "id": "45c7649e",
   "metadata": {},
   "outputs": [
    {
     "data": {
      "text/plain": [
       "<Axes: xlabel='Name'>"
      ]
     },
     "execution_count": 29,
     "metadata": {},
     "output_type": "execute_result"
    },
    {
     "data": {
      "image/png": "[encoded data removed]",
      "text/plain": [
       "<Figure size 640x480 with 1 Axes>"
      ]
     },
     "metadata": {},
     "output_type": "display_data"
    }
   ],
   "source": [
    "df.set_index(\"Name\",inplace=True)\n",
    "\n",
    "df.plot(kind=\"bar\")"
   ]
  },
  {
   "cell_type": "code",
   "execution_count": 30,
   "id": "007d5da1",
   "metadata": {},
   "outputs": [
    {
     "data": {
      "text/plain": [
       "Date      0\n",
       "Ticker    0\n",
       "Open      0\n",
       "High      0\n",
       "Low       0\n",
       "Close     0\n",
       "Volume    0\n",
       "dtype: int64"
      ]
     },
     "execution_count": 30,
     "metadata": {},
     "output_type": "execute_result"
    }
   ],
   "source": [
    "\n",
    "comb_df.ffill(inplace=True)\n",
    "comb_df.isna().sum()"
   ]
  },
  {
   "cell_type": "code",
   "execution_count": 31,
   "id": "490ddec0",
   "metadata": {},
   "outputs": [
    {
     "data": {
      "text/plain": [
       "<Axes: xlabel='Name'>"
      ]
     },
     "execution_count": 31,
     "metadata": {},
     "output_type": "execute_result"
    },
    {
     "data": {
      "image/png": "[encoded data removed]",
      "text/plain": [
       "<Figure size 640x480 with 1 Axes>"
      ]
     },
     "metadata": {},
     "output_type": "display_data"
    }
   ],
   "source": [
    "names = comb_df[\"Ticker\"].unique()\n",
    "\n",
    "performance = []\n",
    "# apple_Stock = comb_df[comb_df[\"Ticker\"]==\"AMZN\"]\n",
    "for name in names:\n",
    "    stock = comb_df[comb_df[\"Ticker\"]==name]\n",
    "    overall_return = (stock[\"Close\"].iloc[-1]-stock[\"Close\"].iloc[0])/stock[\"Close\"].iloc[0]\n",
    "    performance.append({\"Name\":name,\"Overall Return\":overall_return})\n",
    "\n",
    "\n",
    "df = pd.DataFrame(performance).sort_values(\"Overall Return\",ascending=False)\n",
    "\n",
    "df.set_index(\"Name\",inplace=True)\n",
    "\n",
    "df.plot(kind=\"bar\")"
   ]
  }
 ],
 "metadata": {
  "kernelspec": {
   "display_name": "python_lib (3.11.13)",
   "language": "python",
   "name": "python3"
  },
  "language_info": {
   "codemirror_mode": {
    "name": "ipython",
    "version": 3
   },
   "file_extension": ".py",
   "mimetype": "text/x-python",
   "name": "python",
   "nbconvert_exporter": "python",
   "pygments_lexer": "ipython3",
   "version": "3.11.13"
  }
 },
 "nbformat": 4,
 "nbformat_minor": 5
}
