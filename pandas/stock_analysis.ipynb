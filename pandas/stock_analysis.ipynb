{
 "cells": [
  {
   "cell_type": "code",
   "execution_count": 70,
   "id": "d7257b9f",
   "metadata": {},
   "outputs": [],
   "source": [
    "import numpy as np\n",
    "import pandas as pd\n",
    "\n"
   ]
  },
  {
   "cell_type": "markdown",
   "id": "9eda2d0e",
   "metadata": {},
   "source": [
    "##### Identify all the top-performing stocks based on their overall return from the start to the end of the dataset  "
   ]
  },
  {
   "cell_type": "code",
   "execution_count": 71,
   "id": "5132351c",
   "metadata": {},
   "outputs": [
    {
     "data": {
      "text/plain": [
       "np.float64(-0.03805400909004907)"
      ]
     },
     "execution_count": 71,
     "metadata": {},
     "output_type": "execute_result"
    }
   ],
   "source": [
    "com_df=pd.read_csv(\"combined_dataset.csv\")\n",
    "\n",
    "apple_Stock = com_df[com_df[\"Ticker\"]==\"AMZN\"]\n",
    "\n",
    "\n",
    "apple_Stock[\"Ticker\"].count()\n",
    "\n",
    "# com_df\n",
    "\n",
    "(apple_Stock[\"Close\"].iloc[-1]-apple_Stock[\"Close\"].iloc[0])/apple_Stock[\"Close\"].iloc[-1]\n",
    "\n"
   ]
  },
  {
   "cell_type": "code",
   "execution_count": 72,
   "id": "3cd03e72",
   "metadata": {},
   "outputs": [
    {
     "data": {
      "text/html": [
       "<div>\n",
       "<style scoped>\n",
       "    .dataframe tbody tr th:only-of-type {\n",
       "        vertical-align: middle;\n",
       "    }\n",
       "\n",
       "    .dataframe tbody tr th {\n",
       "        vertical-align: top;\n",
       "    }\n",
       "\n",
       "    .dataframe thead th {\n",
       "        text-align: right;\n",
       "    }\n",
       "</style>\n",
       "<table border=\"1\" class=\"dataframe\">\n",
       "  <thead>\n",
       "    <tr style=\"text-align: right;\">\n",
       "      <th></th>\n",
       "      <th>Name</th>\n",
       "      <th>Overall return</th>\n",
       "    </tr>\n",
       "  </thead>\n",
       "  <tbody>\n",
       "    <tr>\n",
       "      <th>9</th>\n",
       "      <td>USD/CAD</td>\n",
       "      <td>0.451384</td>\n",
       "    </tr>\n",
       "    <tr>\n",
       "      <th>12</th>\n",
       "      <td>XRP/USD</td>\n",
       "      <td>0.447608</td>\n",
       "    </tr>\n",
       "    <tr>\n",
       "      <th>8</th>\n",
       "      <td>AUD/USD</td>\n",
       "      <td>0.441305</td>\n",
       "    </tr>\n",
       "    <tr>\n",
       "      <th>4</th>\n",
       "      <td>TSLA</td>\n",
       "      <td>0.436014</td>\n",
       "    </tr>\n",
       "    <tr>\n",
       "      <th>11</th>\n",
       "      <td>ETH/USD</td>\n",
       "      <td>0.385647</td>\n",
       "    </tr>\n",
       "    <tr>\n",
       "      <th>6</th>\n",
       "      <td>GBP/USD</td>\n",
       "      <td>0.385040</td>\n",
       "    </tr>\n",
       "    <tr>\n",
       "      <th>5</th>\n",
       "      <td>EUR/USD</td>\n",
       "      <td>0.311170</td>\n",
       "    </tr>\n",
       "    <tr>\n",
       "      <th>2</th>\n",
       "      <td>MSFT</td>\n",
       "      <td>-0.036024</td>\n",
       "    </tr>\n",
       "    <tr>\n",
       "      <th>3</th>\n",
       "      <td>AMZN</td>\n",
       "      <td>-0.038054</td>\n",
       "    </tr>\n",
       "    <tr>\n",
       "      <th>14</th>\n",
       "      <td>BCH/USD</td>\n",
       "      <td>-0.062180</td>\n",
       "    </tr>\n",
       "    <tr>\n",
       "      <th>10</th>\n",
       "      <td>BTC/USD</td>\n",
       "      <td>-0.086304</td>\n",
       "    </tr>\n",
       "    <tr>\n",
       "      <th>1</th>\n",
       "      <td>GOOG</td>\n",
       "      <td>-0.092149</td>\n",
       "    </tr>\n",
       "    <tr>\n",
       "      <th>0</th>\n",
       "      <td>AAPL</td>\n",
       "      <td>NaN</td>\n",
       "    </tr>\n",
       "    <tr>\n",
       "      <th>7</th>\n",
       "      <td>USD/JPY</td>\n",
       "      <td>NaN</td>\n",
       "    </tr>\n",
       "    <tr>\n",
       "      <th>13</th>\n",
       "      <td>LTC/USD</td>\n",
       "      <td>NaN</td>\n",
       "    </tr>\n",
       "  </tbody>\n",
       "</table>\n",
       "</div>"
      ],
      "text/plain": [
       "       Name  Overall return\n",
       "9   USD/CAD        0.451384\n",
       "12  XRP/USD        0.447608\n",
       "8   AUD/USD        0.441305\n",
       "4      TSLA        0.436014\n",
       "11  ETH/USD        0.385647\n",
       "6   GBP/USD        0.385040\n",
       "5   EUR/USD        0.311170\n",
       "2      MSFT       -0.036024\n",
       "3      AMZN       -0.038054\n",
       "14  BCH/USD       -0.062180\n",
       "10  BTC/USD       -0.086304\n",
       "1      GOOG       -0.092149\n",
       "0      AAPL             NaN\n",
       "7   USD/JPY             NaN\n",
       "13  LTC/USD             NaN"
      ]
     },
     "execution_count": 72,
     "metadata": {},
     "output_type": "execute_result"
    }
   ],
   "source": [
    "names  = com_df[\"Ticker\"].unique()\n",
    "performance = []\n",
    "for name in names:\n",
    "    stock = com_df[com_df[\"Ticker\"]==name]\n",
    "    overall_return = (stock[\"Close\"].iloc[-1]-stock[\"Close\"].iloc[0])/stock[\"Close\"].iloc[-1]\n",
    "    performance.append({\"Name\":name,\"Overall return\":overall_return})\n",
    "    \n",
    "return_df = pd.DataFrame(performance).sort_values(\"Overall return\",ascending=False)\n",
    "return_df"
   ]
  },
  {
   "cell_type": "markdown",
   "id": "7ece6fc6",
   "metadata": {},
   "source": []
  },
  {
   "cell_type": "code",
   "execution_count": 73,
   "id": "f4a51de3",
   "metadata": {},
   "outputs": [
    {
     "data": {
      "text/plain": [
       "<Axes: xlabel='Name'>"
      ]
     },
     "execution_count": 73,
     "metadata": {},
     "output_type": "execute_result"
    },
    {
     "data": {
      "image/png": "[encoded data removed]",
      "text/plain": [
       "<Figure size 640x480 with 1 Axes>"
      ]
     },
     "metadata": {},
     "output_type": "display_data"
    }
   ],
   "source": [
    "return_df.set_index(\"Name\",inplace=True)\n",
    "\n",
    "return_df.plot(kind=\"bar\")"
   ]
  },
  {
   "cell_type": "code",
   "execution_count": 74,
   "id": "cb6f523a",
   "metadata": {},
   "outputs": [
    {
     "data": {
      "text/plain": [
       "np.int64(1941)"
      ]
     },
     "execution_count": 74,
     "metadata": {},
     "output_type": "execute_result"
    }
   ],
   "source": [
    "com_df[\"Close\"].isna().sum()\n"
   ]
  },
  {
   "cell_type": "code",
   "execution_count": 75,
   "id": "d3a8d3a5",
   "metadata": {},
   "outputs": [
    {
     "data": {
      "text/plain": [
       "np.int64(0)"
      ]
     },
     "execution_count": 75,
     "metadata": {},
     "output_type": "execute_result"
    }
   ],
   "source": [
    "com_df[\"Close\"] = com_df[\"Close\"].ffill()\n",
    "# com_df[\"Close\"] = com_df[\"Close\"].fillna(method=\"bfill\")\n",
    "\n",
    "com_df[\"Close\"].isna().sum()"
   ]
  },
  {
   "cell_type": "code",
   "execution_count": 76,
   "id": "726c28ff",
   "metadata": {},
   "outputs": [
    {
     "data": {
      "text/html": [
       "<div>\n",
       "<style scoped>\n",
       "    .dataframe tbody tr th:only-of-type {\n",
       "        vertical-align: middle;\n",
       "    }\n",
       "\n",
       "    .dataframe tbody tr th {\n",
       "        vertical-align: top;\n",
       "    }\n",
       "\n",
       "    .dataframe thead th {\n",
       "        text-align: right;\n",
       "    }\n",
       "</style>\n",
       "<table border=\"1\" class=\"dataframe\">\n",
       "  <thead>\n",
       "    <tr style=\"text-align: right;\">\n",
       "      <th></th>\n",
       "      <th>Name</th>\n",
       "      <th>Overall return</th>\n",
       "    </tr>\n",
       "  </thead>\n",
       "  <tbody>\n",
       "    <tr>\n",
       "      <th>9</th>\n",
       "      <td>USD/CAD</td>\n",
       "      <td>0.451384</td>\n",
       "    </tr>\n",
       "    <tr>\n",
       "      <th>12</th>\n",
       "      <td>XRP/USD</td>\n",
       "      <td>0.447608</td>\n",
       "    </tr>\n",
       "    <tr>\n",
       "      <th>0</th>\n",
       "      <td>AAPL</td>\n",
       "      <td>0.447273</td>\n",
       "    </tr>\n",
       "    <tr>\n",
       "      <th>8</th>\n",
       "      <td>AUD/USD</td>\n",
       "      <td>0.441305</td>\n",
       "    </tr>\n",
       "    <tr>\n",
       "      <th>4</th>\n",
       "      <td>TSLA</td>\n",
       "      <td>0.436014</td>\n",
       "    </tr>\n",
       "    <tr>\n",
       "      <th>11</th>\n",
       "      <td>ETH/USD</td>\n",
       "      <td>0.385647</td>\n",
       "    </tr>\n",
       "    <tr>\n",
       "      <th>6</th>\n",
       "      <td>GBP/USD</td>\n",
       "      <td>0.385040</td>\n",
       "    </tr>\n",
       "    <tr>\n",
       "      <th>5</th>\n",
       "      <td>EUR/USD</td>\n",
       "      <td>0.311170</td>\n",
       "    </tr>\n",
       "    <tr>\n",
       "      <th>7</th>\n",
       "      <td>USD/JPY</td>\n",
       "      <td>-0.022590</td>\n",
       "    </tr>\n",
       "    <tr>\n",
       "      <th>2</th>\n",
       "      <td>MSFT</td>\n",
       "      <td>-0.036024</td>\n",
       "    </tr>\n",
       "    <tr>\n",
       "      <th>3</th>\n",
       "      <td>AMZN</td>\n",
       "      <td>-0.038054</td>\n",
       "    </tr>\n",
       "    <tr>\n",
       "      <th>13</th>\n",
       "      <td>LTC/USD</td>\n",
       "      <td>-0.038054</td>\n",
       "    </tr>\n",
       "    <tr>\n",
       "      <th>14</th>\n",
       "      <td>BCH/USD</td>\n",
       "      <td>-0.062180</td>\n",
       "    </tr>\n",
       "    <tr>\n",
       "      <th>10</th>\n",
       "      <td>BTC/USD</td>\n",
       "      <td>-0.086304</td>\n",
       "    </tr>\n",
       "    <tr>\n",
       "      <th>1</th>\n",
       "      <td>GOOG</td>\n",
       "      <td>-0.092149</td>\n",
       "    </tr>\n",
       "  </tbody>\n",
       "</table>\n",
       "</div>"
      ],
      "text/plain": [
       "       Name  Overall return\n",
       "9   USD/CAD        0.451384\n",
       "12  XRP/USD        0.447608\n",
       "0      AAPL        0.447273\n",
       "8   AUD/USD        0.441305\n",
       "4      TSLA        0.436014\n",
       "11  ETH/USD        0.385647\n",
       "6   GBP/USD        0.385040\n",
       "5   EUR/USD        0.311170\n",
       "7   USD/JPY       -0.022590\n",
       "2      MSFT       -0.036024\n",
       "3      AMZN       -0.038054\n",
       "13  LTC/USD       -0.038054\n",
       "14  BCH/USD       -0.062180\n",
       "10  BTC/USD       -0.086304\n",
       "1      GOOG       -0.092149"
      ]
     },
     "execution_count": 76,
     "metadata": {},
     "output_type": "execute_result"
    }
   ],
   "source": [
    "names  = com_df[\"Ticker\"].unique()\n",
    "performance = []\n",
    "for name in names:\n",
    "    stock = com_df[com_df[\"Ticker\"]==name]\n",
    "    overall_return = (stock[\"Close\"].iloc[-1]-stock[\"Close\"].iloc[0])/stock[\"Close\"].iloc[-1]\n",
    "    performance.append({\"Name\":name,\"Overall return\":overall_return})\n",
    "    \n",
    "return_df = pd.DataFrame(performance).sort_values(\"Overall return\",ascending=False)\n",
    "return_df.sort_values(\"Overall return\",ascending=False)"
   ]
  },
  {
   "cell_type": "code",
   "execution_count": 77,
   "id": "63da5cce",
   "metadata": {},
   "outputs": [
    {
     "data": {
      "text/plain": [
       "Date         0\n",
       "Ticker       0\n",
       "Open      1375\n",
       "High      1568\n",
       "Low       1780\n",
       "Close        0\n",
       "Volume    2068\n",
       "dtype: int64"
      ]
     },
     "execution_count": 77,
     "metadata": {},
     "output_type": "execute_result"
    }
   ],
   "source": [
    "com_df.isna().sum()"
   ]
  },
  {
   "cell_type": "code",
   "execution_count": 78,
   "id": "6c182504",
   "metadata": {},
   "outputs": [
    {
     "data": {
      "text/plain": [
       "Date      0\n",
       "Ticker    0\n",
       "Open      0\n",
       "High      0\n",
       "Low       0\n",
       "Close     0\n",
       "Volume    0\n",
       "dtype: int64"
      ]
     },
     "execution_count": 78,
     "metadata": {},
     "output_type": "execute_result"
    }
   ],
   "source": [
    "com_df.isna().sum()\n",
    "\n",
    "com_df.ffill(inplace=True)\n",
    "com_df.isna().sum()"
   ]
  }
 ],
 "metadata": {
  "kernelspec": {
   "display_name": "python_lib (3.11.13)",
   "language": "python",
   "name": "python3"
  },
  "language_info": {
   "codemirror_mode": {
    "name": "ipython",
    "version": 3
   },
   "file_extension": ".py",
   "mimetype": "text/x-python",
   "name": "python",
   "nbconvert_exporter": "python",
   "pygments_lexer": "ipython3",
   "version": "3.11.13"
  }
 },
 "nbformat": 4,
 "nbformat_minor": 5
}
