{
 "cells": [
  {
   "cell_type": "code",
   "execution_count": 17,
   "id": "6006f8c1",
   "metadata": {},
   "outputs": [
    {
     "name": "stdout",
     "output_type": "stream",
     "text": [
      "C_d3f_gh\n",
      "3_B\n"
     ]
    },
    {
     "data": {
      "text/plain": [
       "'\\nLook at step first. +ve means go left to right\\n-ve means go right to left\\n\\n'"
      ]
     },
     "execution_count": 17,
     "metadata": {},
     "output_type": "execute_result"
    }
   ],
   "source": [
    "# s = 'abcdefgh'\n",
    "\n",
    "# 'bdf'\n",
    "\n",
    "# print(s[1:6:2])\n",
    "# print(s[:-2:]) # default start 0 and end -2\n",
    "# print(s[::-1])\n",
    "# print(s[-1:-60:-2])\n",
    "\n",
    "s1= \"ABC_d3f_ghi\"\n",
    "\n",
    "print(s1[2:-1:])\n",
    "\n",
    "print(s1[5:0:-2])\n",
    "\n",
    "\n",
    "'''\n",
    "Look at step first. +ve means go left to right\n",
    "-ve means go right to left\n",
    "\n",
    "'''\n",
    "\n"
   ]
  }
 ],
 "metadata": {
  "kernelspec": {
   "display_name": "python_lib",
   "language": "python",
   "name": "python3"
  },
  "language_info": {
   "codemirror_mode": {
    "name": "ipython",
    "version": 3
   },
   "file_extension": ".py",
   "mimetype": "text/x-python",
   "name": "python",
   "nbconvert_exporter": "python",
   "pygments_lexer": "ipython3",
   "version": "3.11.7"
  }
 },
 "nbformat": 4,
 "nbformat_minor": 5
}
