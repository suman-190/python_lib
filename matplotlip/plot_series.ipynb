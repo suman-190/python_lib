{
 "cells": [
  {
   "cell_type": "code",
   "execution_count": 22,
   "id": "b6af822b",
   "metadata": {},
   "outputs": [],
   "source": [
    "import pandas as pd\n",
    "import numpy as np\n",
    "import matplotlib.pyplot as plt\n"
   ]
  },
  {
   "cell_type": "markdown",
   "id": "25768822",
   "metadata": {},
   "source": [
    "#### Type of Data\n",
    "- Numerical \n",
    "- Categorical"
   ]
  },
  {
   "cell_type": "code",
   "execution_count": 23,
   "id": "5ba794ed",
   "metadata": {},
   "outputs": [
    {
     "data": {
      "text/html": [
       "<div>\n",
       "<style scoped>\n",
       "    .dataframe tbody tr th:only-of-type {\n",
       "        vertical-align: middle;\n",
       "    }\n",
       "\n",
       "    .dataframe tbody tr th {\n",
       "        vertical-align: top;\n",
       "    }\n",
       "\n",
       "    .dataframe thead th {\n",
       "        text-align: right;\n",
       "    }\n",
       "</style>\n",
       "<table border=\"1\" class=\"dataframe\">\n",
       "  <thead>\n",
       "    <tr style=\"text-align: right;\">\n",
       "      <th></th>\n",
       "      <th>Unnamed: 0</th>\n",
       "      <th>Timestamp</th>\n",
       "      <th>Ticker</th>\n",
       "      <th>Price</th>\n",
       "      <th>Volume</th>\n",
       "      <th>Buy/Sell</th>\n",
       "      <th>Trader_ID</th>\n",
       "      <th>Exchange</th>\n",
       "    </tr>\n",
       "  </thead>\n",
       "  <tbody>\n",
       "    <tr>\n",
       "      <th>0</th>\n",
       "      <td>0</td>\n",
       "      <td>2022-01-01 00:00:00</td>\n",
       "      <td>AAPL</td>\n",
       "      <td>150</td>\n",
       "      <td>100</td>\n",
       "      <td>Buy</td>\n",
       "      <td>T1</td>\n",
       "      <td>NYSE</td>\n",
       "    </tr>\n",
       "    <tr>\n",
       "      <th>1</th>\n",
       "      <td>1</td>\n",
       "      <td>2022-01-01 00:00:01</td>\n",
       "      <td>GOOGL</td>\n",
       "      <td>2500</td>\n",
       "      <td>200</td>\n",
       "      <td>Sell</td>\n",
       "      <td>T2</td>\n",
       "      <td>NASDAQ</td>\n",
       "    </tr>\n",
       "    <tr>\n",
       "      <th>2</th>\n",
       "      <td>2</td>\n",
       "      <td>2022-01-01 00:00:02</td>\n",
       "      <td>MSFT</td>\n",
       "      <td>300</td>\n",
       "      <td>150</td>\n",
       "      <td>Buy</td>\n",
       "      <td>T3</td>\n",
       "      <td>NYSE</td>\n",
       "    </tr>\n",
       "    <tr>\n",
       "      <th>3</th>\n",
       "      <td>3</td>\n",
       "      <td>2022-01-01 00:00:03</td>\n",
       "      <td>BTC</td>\n",
       "      <td>155</td>\n",
       "      <td>110</td>\n",
       "      <td>Sell</td>\n",
       "      <td>T4</td>\n",
       "      <td>Binance</td>\n",
       "    </tr>\n",
       "    <tr>\n",
       "      <th>4</th>\n",
       "      <td>4</td>\n",
       "      <td>2022-01-01 00:00:04</td>\n",
       "      <td>ETH</td>\n",
       "      <td>2550</td>\n",
       "      <td>210</td>\n",
       "      <td>Buy</td>\n",
       "      <td>T5</td>\n",
       "      <td>Bybit</td>\n",
       "    </tr>\n",
       "    <tr>\n",
       "      <th>...</th>\n",
       "      <td>...</td>\n",
       "      <td>...</td>\n",
       "      <td>...</td>\n",
       "      <td>...</td>\n",
       "      <td>...</td>\n",
       "      <td>...</td>\n",
       "      <td>...</td>\n",
       "      <td>...</td>\n",
       "    </tr>\n",
       "    <tr>\n",
       "      <th>999995</th>\n",
       "      <td>999995</td>\n",
       "      <td>2022-01-12 13:46:35</td>\n",
       "      <td>XRP</td>\n",
       "      <td>310</td>\n",
       "      <td>160</td>\n",
       "      <td>Sell</td>\n",
       "      <td>T6</td>\n",
       "      <td>Coinbase</td>\n",
       "    </tr>\n",
       "    <tr>\n",
       "      <th>999996</th>\n",
       "      <td>999996</td>\n",
       "      <td>2022-01-12 13:46:36</td>\n",
       "      <td>AAPL</td>\n",
       "      <td>150</td>\n",
       "      <td>100</td>\n",
       "      <td>Buy</td>\n",
       "      <td>T1</td>\n",
       "      <td>NYSE</td>\n",
       "    </tr>\n",
       "    <tr>\n",
       "      <th>999997</th>\n",
       "      <td>999997</td>\n",
       "      <td>2022-01-12 13:46:37</td>\n",
       "      <td>GOOGL</td>\n",
       "      <td>2500</td>\n",
       "      <td>200</td>\n",
       "      <td>Sell</td>\n",
       "      <td>T2</td>\n",
       "      <td>NASDAQ</td>\n",
       "    </tr>\n",
       "    <tr>\n",
       "      <th>999998</th>\n",
       "      <td>999998</td>\n",
       "      <td>2022-01-12 13:46:38</td>\n",
       "      <td>MSFT</td>\n",
       "      <td>300</td>\n",
       "      <td>150</td>\n",
       "      <td>Buy</td>\n",
       "      <td>T3</td>\n",
       "      <td>NYSE</td>\n",
       "    </tr>\n",
       "    <tr>\n",
       "      <th>999999</th>\n",
       "      <td>999999</td>\n",
       "      <td>2022-01-12 13:46:39</td>\n",
       "      <td>BTC</td>\n",
       "      <td>155</td>\n",
       "      <td>110</td>\n",
       "      <td>Sell</td>\n",
       "      <td>T4</td>\n",
       "      <td>Binance</td>\n",
       "    </tr>\n",
       "  </tbody>\n",
       "</table>\n",
       "<p>1000000 rows × 8 columns</p>\n",
       "</div>"
      ],
      "text/plain": [
       "        Unnamed: 0            Timestamp Ticker  Price  Volume Buy/Sell  \\\n",
       "0                0  2022-01-01 00:00:00   AAPL    150     100      Buy   \n",
       "1                1  2022-01-01 00:00:01  GOOGL   2500     200     Sell   \n",
       "2                2  2022-01-01 00:00:02   MSFT    300     150      Buy   \n",
       "3                3  2022-01-01 00:00:03    BTC    155     110     Sell   \n",
       "4                4  2022-01-01 00:00:04    ETH   2550     210      Buy   \n",
       "...            ...                  ...    ...    ...     ...      ...   \n",
       "999995      999995  2022-01-12 13:46:35    XRP    310     160     Sell   \n",
       "999996      999996  2022-01-12 13:46:36   AAPL    150     100      Buy   \n",
       "999997      999997  2022-01-12 13:46:37  GOOGL   2500     200     Sell   \n",
       "999998      999998  2022-01-12 13:46:38   MSFT    300     150      Buy   \n",
       "999999      999999  2022-01-12 13:46:39    BTC    155     110     Sell   \n",
       "\n",
       "       Trader_ID  Exchange  \n",
       "0             T1      NYSE  \n",
       "1             T2    NASDAQ  \n",
       "2             T3      NYSE  \n",
       "3             T4   Binance  \n",
       "4             T5     Bybit  \n",
       "...          ...       ...  \n",
       "999995        T6  Coinbase  \n",
       "999996        T1      NYSE  \n",
       "999997        T2    NASDAQ  \n",
       "999998        T3      NYSE  \n",
       "999999        T4   Binance  \n",
       "\n",
       "[1000000 rows x 8 columns]"
      ]
     },
     "execution_count": 23,
     "metadata": {},
     "output_type": "execute_result"
    }
   ],
   "source": [
    "df = pd.read_csv(\"Exchange_Trade_Data.csv\")\n",
    "\n",
    "df\n",
    "\n"
   ]
  },
  {
   "cell_type": "code",
   "execution_count": 24,
   "id": "6b755dea",
   "metadata": {},
   "outputs": [
    {
     "data": {
      "image/png": "[encoded data removed]",
      "text/plain": [
       "<Figure size 640x480 with 1 Axes>"
      ]
     },
     "metadata": {},
     "output_type": "display_data"
    }
   ],
   "source": [
    "days = [1,2,3,4,5,6,7]\n",
    "sales = [100,120,90,130,140,150,160]\n",
    "\n",
    "plt.plot(days,sales,marker = 'D',color='orange',linewidth = 1)\n",
    "\n",
    "plt.title(\"Daily sales trends\")\n",
    "\n",
    "plt.xlabel(\"Day\")\n",
    "plt.ylabel(\"sales\")\n",
    "plt.grid(True)\n",
    "\n",
    "plt.show()\n"
   ]
  },
  {
   "cell_type": "code",
   "execution_count": 26,
   "id": "62195f4f",
   "metadata": {},
   "outputs": [
    {
     "data": {
      "text/plain": [
       "<matplotlib.collections.PathCollection at 0x287618d1e90>"
      ]
     },
     "execution_count": 26,
     "metadata": {},
     "output_type": "execute_result"
    },
    {
     "data": {
      "image/png": "[encoded data removed]",
      "text/plain": [
       "<Figure size 640x480 with 1 Axes>"
      ]
     },
     "metadata": {},
     "output_type": "display_data"
    }
   ],
   "source": [
    "x = [1,2,3,4,5,6]\n",
    "y=[5,4,3,2,1,0]\n",
    "\n",
    "plt.scatter(x,y)"
   ]
  },
  {
   "cell_type": "code",
   "execution_count": 27,
   "id": "f2a61b7a",
   "metadata": {},
   "outputs": [
    {
     "data": {
      "image/png": "[encoded data removed]",
      "text/plain": [
       "<Figure size 640x480 with 1 Axes>"
      ]
     },
     "metadata": {},
     "output_type": "display_data"
    }
   ],
   "source": [
    "days = [1,2,3,4,5]\n",
    "sales = [100,120,90,130,140]\n",
    "\n",
    "plt.scatter(days,sales,color='blue',marker='o')\n",
    "\n",
    "plt.title(\"Sales Over Days\")\n",
    "plt.xlabel(\"Day\")\n",
    "plt.ylabel(\"Sales\")\n",
    "plt.grid(True)\n",
    "\n",
    "plt.show()"
   ]
  },
  {
   "cell_type": "code",
   "execution_count": null,
   "id": "ba95ec57",
   "metadata": {},
   "outputs": [],
   "source": []
  }
 ],
 "metadata": {
  "kernelspec": {
   "display_name": "python_lib (3.11.13)",
   "language": "python",
   "name": "python3"
  },
  "language_info": {
   "codemirror_mode": {
    "name": "ipython",
    "version": 3
   },
   "file_extension": ".py",
   "mimetype": "text/x-python",
   "name": "python",
   "nbconvert_exporter": "python",
   "pygments_lexer": "ipython3",
   "version": "3.11.13"
  }
 },
 "nbformat": 4,
 "nbformat_minor": 5
}
