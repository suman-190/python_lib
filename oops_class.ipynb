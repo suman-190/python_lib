{
 "cells": [
  {
   "cell_type": "code",
   "execution_count": null,
   "id": "6336c420",
   "metadata": {},
   "outputs": [],
   "source": [
    "# OOPS in Python\n",
    "\n",
    "# Functional Programming => \n",
    "# sellers\n",
    "# sellerName\n",
    "# sellerAddress\n",
    "# sellerMoney\n",
    "# Scaleable\n",
    "\n",
    "\n",
    "\n",
    "# Procedure=> Function series of instructions to accompish a task\n",
    "\n",
    "# A Program can be thought of a collection of procedures\n",
    "# main focus on doing \n",
    "# accoutOpen()\n",
    "\n",
    "# OOPS=> It is a programming paradigm that provides a means of structuring programs so that properties and behaviors are bundled into individual objects\n",
    "\n",
    "# OOP is a best practice for large, complex, and maintainable applications because it aligns well with real-world modeling, modularity, and team collaboration.\n",
    "\n",
    "# Main Aspect of OOPS\n",
    "# class and Object\n",
    "# 1) Encapsulation\n",
    "# 2) Abstraction\n",
    "# 3) Inheritance\n",
    "# 4) Polymerphism\n"
   ]
  },
  {
   "cell_type": "code",
   "execution_count": null,
   "id": "6847c1c1",
   "metadata": {},
   "outputs": [],
   "source": [
    "# class -Common Noun\n",
    "# Object -Proper Noun\n",
    "# State - set of property values stored in an Object\n"
   ]
  },
  {
   "cell_type": "code",
   "execution_count": null,
   "id": "9144257c",
   "metadata": {},
   "outputs": [],
   "source": [
    "# Defining Class\n",
    "# Blueprint and self defined data Type\n"
   ]
  },
  {
   "cell_type": "code",
   "execution_count": null,
   "id": "c6a64494",
   "metadata": {},
   "outputs": [],
   "source": [
    "# Write a function that returns the second largest number from a list of integers.\n",
    "\n",
    "# Write a function that takes a number and keeps summing its digits\n",
    "# until it becomes a single digit.\n",
    "# Example: 987 → 9 + 8 + 7 = 24 → 2 + 4 = 6  \n",
    "\n",
    "# Check if a given string is a palindrome using a loop (without using [::-1] or reversed()).\n",
    "\n",
    "# Return a list of common elements between two lists using loops.\n",
    "\n",
    "# Swap the first and last elements of a tuple.\n",
    "# Example: (1, 2, 3, 4) → (4, 2, 3, 1)\n",
    "\n",
    "# Write a function to count how many vowels are in a given string.\n",
    "# Write a program to print factorial of Given Numbers using Recurison"
   ]
  },
  {
   "cell_type": "code",
   "execution_count": null,
   "id": "e39611bf",
   "metadata": {},
   "outputs": [],
   "source": [
    "class Atm:\n",
    "    def __init__(self):\n",
    "         self.pin = ''\n",
    "         self.balance = 0\n",
    "         self.menu()\n",
    "\n",
    "    def menu(self):\n",
    "       user_input = input(\"\"\"\n",
    "    Hi how can I help you?\n",
    "    1. Press 1 to create pin\n",
    "    2. Press 2 to change pin\n",
    "    3. Press 3 to check balance\n",
    "    4. Press 4 to withdraw\n",
    "    5. Anything else to exit\n",
    "    \"\"\")\n",
    "    if user_input == '1':\n",
    "          self.create_pin()\n",
    "    elif user_input == '2':\n",
    "         self.change_pin()\n",
    "    elif user_input == '3':\n",
    "      self.check_balance()\n",
    "    elif user_input == '4':\n",
    "      self.withdraw()\n",
    "    else:\n",
    "      exit()\n",
    "       \n"
   ]
  },
  {
   "cell_type": "markdown",
   "id": "30a1af7a",
   "metadata": {},
   "source": [
    " Class And Object\n",
    "\n",
    " class:Common noun => Teacher, Doctor Car\n",
    "\n",
    " object:proper noun => Ramesh \n",
    "\n",
    " state: set of property and values stored in an object \n",
    " if person class then  in state like weight, height\n",
    "\n",
    "**Main Aspects of Object    **\n",
    "\n",
    "1. Encapsulation \n",
    "```\n",
    "Act of combining properties and methods related to the same entity\n",
    "# properties\n",
    "name\n",
    "rollNum\n",
    "std\n",
    "\n",
    "# methods\n",
    "changeSection()\n",
    "promoteClass()\n",
    "enrollSrudent()\n",
    "\n",
    " we call in python  properties and method\n",
    "\n",
    "```\n",
    "2. Abstraction\n",
    "```\n",
    "\n",
    "```\n",
    "\n",
    "3. Inheritance\n",
    "4. Polymerphism"
   ]
  },
  {
   "cell_type": "code",
   "execution_count": null,
   "id": "e113bb94",
   "metadata": {},
   "outputs": [],
   "source": [
    "\n",
    "# class className:\n",
    "t1 = Test()\n"
   ]
  },
  {
   "cell_type": "code",
   "execution_count": null,
   "id": "8b04680a",
   "metadata": {},
   "outputs": [],
   "source": []
  },
  {
   "cell_type": "code",
   "execution_count": null,
   "id": "383ccf73",
   "metadata": {},
   "outputs": [],
   "source": [
    "# OOPS\n",
    "\n",
    "# Functional Programing=Task in a series\n",
    "\n",
    "\n",
    "# Aspect of OOps\n",
    "\n",
    "# 1. Class and Object\n",
    "# 2.Encapsulution\n",
    "\n",
    "# 3.Inheritance\n",
    "\n",
    "# 4.Abstraction \n",
    "\n",
    "# 5.Polymerphism\n",
    "\n",
    "\n",
    "\n",
    "\n",
    "# Oops is a best practice for large, complex, and maitable application \n",
    "# Becasuse it align well with real-modeling, modularity and Team collaboration"
   ]
  },
  {
   "cell_type": "code",
   "execution_count": null,
   "id": "66586521",
   "metadata": {},
   "outputs": [],
   "source": [
    "# Encapsulution\n",
    "# Act of combining properties and methonds\n",
    "\n",
    "#1.properties\n",
    "# Stuent\n",
    "# rollNO\n",
    "# name\n",
    "\n",
    "# 2. Methonds\n",
    "# changeSection()\n",
    "# PromotoClass()\n",
    "# enrollStudent()\n",
    "\n",
    "\n"
   ]
  },
  {
   "cell_type": "code",
   "execution_count": null,
   "id": "4be0b950",
   "metadata": {},
   "outputs": [
    {
     "name": "stdout",
     "output_type": "stream",
     "text": [
      "Object Created <__main__.Atm object at 0x0000018874A0B610>\n",
      "<__main__.Atm object at 0x0000018874A0B610>\n"
     ]
    }
   ],
   "source": [
    "class Atm:\n",
    "    # pin =''\n",
    "    # balance=0\n",
    "\n",
    "    def __init__(self):\n",
    "        self.pin = ''\n",
    "        self.balance = 0\n",
    "    \n",
    "    def chnagePin():\n",
    "        pass\n",
    "\n",
    "    def withDraw():\n",
    "        \n",
    "    \n",
    "    \n",
    "\n",
    "a1=Atm()\n",
    "a2=Atm()\n",
    "\n",
    "a1 + a2\n",
    "print(a1)\n",
    "\n",
    "\n",
    "\n",
    "\n",
    "\n",
    "\n"
   ]
  },
  {
   "cell_type": "code",
   "execution_count": null,
   "id": "d31dedd2",
   "metadata": {},
   "outputs": [
    {
     "name": "stdout",
     "output_type": "stream",
     "text": [
      "SumanSumanSuman\n"
     ]
    }
   ],
   "source": [
    "s1 = 3 + 3\n",
    "s2 = \"Suman\" + \"Bhandari\" \n",
    "print(s1)\n",
    "\n"
   ]
  },
  {
   "cell_type": "code",
   "execution_count": null,
   "id": "1eabf8a6",
   "metadata": {},
   "outputs": [],
   "source": [
    "\n"
   ]
  },
  {
   "cell_type": "code",
   "execution_count": null,
   "id": "30a5dcab",
   "metadata": {},
   "outputs": [
    {
     "name": "stdout",
     "output_type": "stream",
     "text": [
      "form Constructor <__main__.Atm object at 0x000001A9B8E0A990>\n",
      "form Constructor <__main__.Atm object at 0x000001A9B8DC6650>\n",
      "<__main__.Atm object at 0x000001A9B8E0A990>\n",
      "<__main__.Atm object at 0x000001A9B8DC6650>\n"
     ]
    }
   ],
   "source": [
    "\n",
    "#  \n",
    "\n",
    "# Oops in Python\n",
    "# \n",
    "# It is a programming paradigm that procvides a means of structuring programs so that properties and methods are bundled into individual objects \n",
    "\n",
    "# Procedure => Function Series of instructions to accompish task\n",
    "\n",
    "l1 = [12,12,32,43,45]\n",
    "\n",
    "# class\n",
    "# Common \n",
    "\n",
    "# Ramesh\n",
    "# Propernown\n",
    "\n",
    "\n",
    "\n",
    "\n",
    "\n",
    "\n",
    "# Main Aspect of OOPs\n",
    "\n",
    "# 1. Class and Object\n",
    "\n",
    "# 2. Ecapsulation\n",
    "```\n",
    "Act of combining properties and methods related to the same entity\n",
    " \n",
    "```\n",
    "# 3. Abstraction\n",
    "''' \n",
    "\n",
    "\n",
    "'''\n",
    "# 4. Inheritance\n",
    "'''\n",
    "\n",
    "\n",
    "'''\n",
    "# 5. Polymerphism\n",
    "\n",
    "\n",
    "\n",
    "\n",
    "class Atm:\n",
    "\n",
    "    # pin = ''\n",
    "    # balance = ''\n",
    "\n",
    "    def __init__(self):\n",
    "        print(\"form Constructor\",self)\n",
    "        self.pin = \n",
    "   \n",
    "a1 = Atm()\n",
    "a2= Atm()\n",
    "print(a1)\n",
    "print(a2)\n",
    "\n",
    "l1 = list()\n"
   ]
  },
  {
   "cell_type": "code",
   "execution_count": null,
   "id": "dc34652b",
   "metadata": {},
   "outputs": [],
   "source": [
    "s1 = \"Suman\" + \"Bhandari\"\n",
    "\n",
    "s1 = \"Suman\" * 3\n",
    "\n",
    "res1 = 2+5\n",
    "\n"
   ]
  },
  {
   "cell_type": "code",
   "execution_count": null,
   "id": "06d4b1ad",
   "metadata": {},
   "outputs": [],
   "source": [
    "\n",
    "# create a Customer Class dunder method \n",
    "# Properties\n",
    "# Object"
   ]
  },
  {
   "cell_type": "code",
   "execution_count": 2,
   "id": "74ed82ca",
   "metadata": {},
   "outputs": [
    {
     "name": "stdout",
     "output_type": "stream",
     "text": [
      "<class '__main__.Car'>\n"
     ]
    }
   ],
   "source": [
    "class Car:\n",
    "    pass\n",
    "\n",
    "audi = Car()\n",
    "\n",
    "print(type(audi))"
   ]
  },
  {
   "cell_type": "code",
   "execution_count": 5,
   "id": "e7f24b02",
   "metadata": {},
   "outputs": [
    {
     "name": "stdout",
     "output_type": "stream",
     "text": [
      "20\n",
      "This is Instance Object Variable 20\n",
      "32\n"
     ]
    }
   ],
   "source": [
    "a = 20\n",
    "class Test:\n",
    "    x = 10\n",
    "    def f1():\n",
    "        m1 = 4\n",
    "    def __init__(self,a):\n",
    "        self.a = a #Instance object Variable\n",
    "        print(a)\n",
    "\n",
    "\n",
    "t1 = Test(20)\n",
    "print(\"This is Instance Object Variable\",t1.a)\n",
    "t2 = Test(32)\n",
    "\n",
    "# Types of Variable\n",
    "# 1.Instanace Object Variable # Static Variable\n",
    "# 2. Class Object Variable\n",
    "# 3. Local Variable\n",
    "# 4. Global variable\n",
    "\n",
    "\n"
   ]
  },
  {
   "cell_type": "code",
   "execution_count": 3,
   "id": "f742d216",
   "metadata": {},
   "outputs": [
    {
     "name": "stdout",
     "output_type": "stream",
     "text": [
      "20\n",
      "32\n"
     ]
    }
   ],
   "source": [
    "class Test:\n",
    "    \n",
    "    def __init__(self,a):\n",
    "        self.a = a #Instance object Variable\n",
    "        print(a)\n",
    "    \n",
    "    @staticmethod\n",
    "    def f1():\n",
    "        print(\"Static Method\")    \n",
    "    \n",
    "    @classmethod\n",
    "    def f3():\n",
    "        cls.x = 5\n",
    "\n",
    "        \n",
    "\n",
    "t1 = Test(20)\n",
    "t1 = Test(32)"
   ]
  },
  {
   "cell_type": "code",
   "execution_count": null,
   "id": "a35cf754",
   "metadata": {},
   "outputs": [],
   "source": [
    "# class className:\n",
    "#     #class atributes and methods"
   ]
  },
  {
   "cell_type": "code",
   "execution_count": 11,
   "id": "6bbf339a",
   "metadata": {},
   "outputs": [
    {
     "name": "stdout",
     "output_type": "stream",
     "text": [
      "Toyota engine is started which has 4\n",
      "Red\n",
      "Tata engine is started which has 4\n"
     ]
    }
   ],
   "source": [
    "class Car:\n",
    "    #attributes \n",
    "    wheeels = 4 # class Variable\n",
    "\n",
    "    def __init__(self,brand,color):\n",
    "        self.brand = brand\n",
    "        self.color = color\n",
    "\n",
    "    def start_engin(self):\n",
    "        print(f\"{self.brand} engine is started which has {self.wheeels}\")    \n",
    "    \n",
    "    \n",
    "\n",
    "car1 = Car(\"Toyota\",\"Red\")\n",
    "car1.start_engin()\n",
    "print(car1.color)\n",
    "car2 = Car(\"Tata\",\"Black\")\n",
    "car2.start_engin()"
   ]
  },
  {
   "cell_type": "code",
   "execution_count": null,
   "id": "f5fcaf8f",
   "metadata": {},
   "outputs": [],
   "source": [
    "# class ParentClass:\n",
    "# # Parent properties and Methods\n",
    "\n",
    "\n",
    "# class ChildClass(ParentClass):\n",
    "# # additional chaild properties and methods\n"
   ]
  },
  {
   "cell_type": "code",
   "execution_count": null,
   "id": "6602d7c7",
   "metadata": {},
   "outputs": [
    {
     "name": "stdout",
     "output_type": "stream",
     "text": [
      "Buddy makes a sound\n",
      "Buddy barks\n"
     ]
    },
    {
     "ename": "TypeError",
     "evalue": "Animal.__init__() takes 2 positional arguments but 3 were given",
     "output_type": "error",
     "traceback": [
      "\u001b[31m---------------------------------------------------------------------------\u001b[39m",
      "\u001b[31mTypeError\u001b[39m                                 Traceback (most recent call last)",
      "\u001b[36mCell\u001b[39m\u001b[36m \u001b[39m\u001b[32mIn[18]\u001b[39m\u001b[32m, line 27\u001b[39m\n\u001b[32m     24\u001b[39m d.speak() \u001b[38;5;66;03m#Inherited method\u001b[39;00m\n\u001b[32m     25\u001b[39m d.bark() \u001b[38;5;66;03m#Child-Specific method\u001b[39;00m\n\u001b[32m---> \u001b[39m\u001b[32m27\u001b[39m c = \u001b[43mCat\u001b[49m\u001b[43m(\u001b[49m\u001b[33;43m\"\u001b[39;49m\u001b[33;43mGen\u001b[39;49m\u001b[33;43m\"\u001b[39;49m\u001b[43m,\u001b[49m\u001b[33;43m\"\u001b[39;49m\u001b[33;43m\"\u001b[39;49m\u001b[43m)\u001b[49m\n\u001b[32m     28\u001b[39m c.speak()\n",
      "\u001b[31mTypeError\u001b[39m: Animal.__init__() takes 2 positional arguments but 3 were given"
     ]
    }
   ],
   "source": [
    "# Vehicle is base Class\n",
    "# Car and Bike are subclasses\n",
    "\n",
    "\n",
    "\n",
    "class Animal:\n",
    "    def __init__(self,name):\n",
    "        self.name = name\n",
    "\n",
    "    def speak(self):\n",
    "        print(f\"{self.name} makes a sound\")    \n",
    "\n",
    "  \n",
    "class Dog(Animal):\n",
    "    def bark(self):\n",
    "        print(f\"{self.name} barks\")\n",
    "\n",
    "class Cat(Animal):\n",
    "    def speak(self):\n",
    "        print(\"Cat meows\",self.name)\n",
    "# Usage\n",
    "\n",
    "d = Dog(\"Buddy\")\n",
    "d.speak() #Inherited method\n",
    "d.bark() #Child-Specific method\n",
    "\n",
    "c = Cat(\"Gen\",)\n",
    "c.speak()\n",
    "\n",
    "\n"
   ]
  },
  {
   "cell_type": "code",
   "execution_count": null,
   "id": "e8d88926",
   "metadata": {},
   "outputs": [],
   "source": [
    "# Employee Managemt\n",
    "\n",
    "class Employee:\n",
    "    def __init__(self,name):\n",
    "        self.name = name\n",
    "\n",
    "    def show(self):\n",
    "        print(f\"Name:{self.name}\") \n",
    "\n",
    "class Manager(Employee):\n",
    "    def __init__(self,name,department):\n",
    "        super().__init__(name)\n",
    "        # call parent class method or constructor\n",
    "        self.department = department\n",
    "    \n",
    "    def show (self):\n",
    "        super().show()\n",
    "      "
   ]
  },
  {
   "cell_type": "code",
   "execution_count": 19,
   "id": "c9971746",
   "metadata": {},
   "outputs": [
    {
     "name": "stdout",
     "output_type": "stream",
     "text": [
      "Animal created\n",
      "Dog is Created\n"
     ]
    }
   ],
   "source": [
    "class Animal:\n",
    "    def __init__(self,name):\n",
    "        self.name = name\n",
    "        print(\"Animal created\")\n",
    "    \n",
    "    \n",
    "class Dog(Animal):\n",
    "    def  __init__(self, name,breed):\n",
    "        super().__init__(name )\n",
    "        self.breed = breed\n",
    "        print(\"Dog is Created\")\n",
    "\n",
    "# The super() function is used so that the child class can resuse or extend\n",
    "# the behavior of the parent class without rewriting code\n",
    "\n",
    "d = Dog(\"Tommy\",\"Bulldog\")\n"
   ]
  }
 ],
 "metadata": {
  "kernelspec": {
   "display_name": "python_lib",
   "language": "python",
   "name": "python3"
  },
  "language_info": {
   "codemirror_mode": {
    "name": "ipython",
    "version": 3
   },
   "file_extension": ".py",
   "mimetype": "text/x-python",
   "name": "python",
   "nbconvert_exporter": "python",
   "pygments_lexer": "ipython3",
   "version": "3.11.7"
  }
 },
 "nbformat": 4,
 "nbformat_minor": 5
}
