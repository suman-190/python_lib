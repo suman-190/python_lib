{
 "cells": [
  {
   "cell_type": "code",
   "execution_count": null,
   "id": "6336c420",
   "metadata": {},
   "outputs": [],
   "source": [
    "# OOPS in Python\n",
    "\n",
    "# Functional Programming => \n",
    "# sellers\n",
    "# sellerName\n",
    "# sellerAddress\n",
    "# sellerMoney\n",
    "# Scaleable\n",
    "\n",
    "\n",
    "\n",
    "# Procedure=> Function series of instructions to accompish a task\n",
    "\n",
    "# A Program can be thought of a collection of procedures\n",
    "# main focus on doing \n",
    "# accoutOpen()\n",
    "\n",
    "# OOPS=> It is a programming paradigm that provides a means of structuring programs so that properties and behaviors are bundled into individual objects\n",
    "\n",
    "# OOP is a best practice for large, complex, and maintainable applications because it aligns well with real-world modeling, modularity, and team collaboration.\n",
    "\n",
    "# Main Aspect of OOPS\n",
    "# class and Object\n",
    "# 1) Encapsulation\n",
    "# 2) Abstraction\n",
    "# 3) Inheritance\n",
    "# 4) Polymerphism\n"
   ]
  },
  {
   "cell_type": "code",
   "execution_count": null,
   "id": "6847c1c1",
   "metadata": {},
   "outputs": [],
   "source": [
    "# class -Common Noun\n",
    "# Object -Proper Noun\n",
    "# State - set of property values stored in an Object\n"
   ]
  },
  {
   "cell_type": "code",
   "execution_count": null,
   "id": "9144257c",
   "metadata": {},
   "outputs": [],
   "source": [
    "# Defining Class\n",
    "# Blueprint and self defined data Type\n"
   ]
  },
  {
   "cell_type": "code",
   "execution_count": null,
   "id": "c6a64494",
   "metadata": {},
   "outputs": [],
   "source": [
    "# Write a function that returns the second largest number from a list of integers.\n",
    "\n",
    "# Write a function that takes a number and keeps summing its digits\n",
    "# until it becomes a single digit.\n",
    "# Example: 987 → 9 + 8 + 7 = 24 → 2 + 4 = 6  \n",
    "\n",
    "# Check if a given string is a palindrome using a loop (without using [::-1] or reversed()).\n",
    "\n",
    "# Return a list of common elements between two lists using loops.\n",
    "\n",
    "# Swap the first and last elements of a tuple.\n",
    "# Example: (1, 2, 3, 4) → (4, 2, 3, 1)\n",
    "\n",
    "# Write a function to count how many vowels are in a given string.\n",
    "# Write a program to print factorial of Given Numbers using Recurison"
   ]
  },
  {
   "cell_type": "code",
   "execution_count": null,
   "id": "e39611bf",
   "metadata": {},
   "outputs": [],
   "source": [
    "class Atm:\n",
    "    def __init__(self):\n",
    "         self.pin = ''\n",
    "         self.balance = 0\n",
    "         self.menu()\n",
    "\n",
    "    def menu(self):\n",
    "       user_input = input(\"\"\"\n",
    "    Hi how can I help you?\n",
    "    1. Press 1 to create pin\n",
    "    2. Press 2 to change pin\n",
    "    3. Press 3 to check balance\n",
    "    4. Press 4 to withdraw\n",
    "    5. Anything else to exit\n",
    "    \"\"\")\n",
    "    if user_input == '1':\n",
    "          self.create_pin()\n",
    "    elif user_input == '2':\n",
    "         self.change_pin()\n",
    "    elif user_input == '3':\n",
    "      self.check_balance()\n",
    "    elif user_input == '4':\n",
    "      self.withdraw()\n",
    "    else:\n",
    "      exit()\n",
    "       \n"
   ]
  },
  {
   "cell_type": "markdown",
   "id": "30a1af7a",
   "metadata": {},
   "source": [
    " Class And Object\n",
    "\n",
    " class:Common noun => Teacher, Doctor Car\n",
    "\n",
    " object:proper noun => Ramesh \n",
    "\n",
    " state: set of property and values stored in an object \n",
    " if person class then  in state like weight, height\n",
    "\n",
    "**Main Aspects of Object    **\n",
    "\n",
    "1. Encapsulation \n",
    "```\n",
    "Act of combining properties and methods related to the same entity\n",
    "# properties\n",
    "name\n",
    "rollNum\n",
    "std\n",
    "\n",
    "# methods\n",
    "changeSection()\n",
    "promoteClass()\n",
    "enrollSrudent()\n",
    "\n",
    " we call in python  properties and method\n",
    "\n",
    "```\n",
    "2. Abstraction\n",
    "```\n",
    "\n",
    "```\n",
    "\n",
    "3. Inheritance\n",
    "4. Polymerphism"
   ]
  },
  {
   "cell_type": "code",
   "execution_count": null,
   "id": "e113bb94",
   "metadata": {},
   "outputs": [],
   "source": [
    "\n",
    "# class className:\n",
    "t1 = Test()\n"
   ]
  },
  {
   "cell_type": "code",
   "execution_count": null,
   "id": "8b04680a",
   "metadata": {},
   "outputs": [],
   "source": []
  },
  {
   "cell_type": "code",
   "execution_count": null,
   "id": "383ccf73",
   "metadata": {},
   "outputs": [],
   "source": [
    "# OOPS\n",
    "\n",
    "# Functional Programing=Task in a series\n",
    "\n",
    "\n",
    "# Aspect of OOps\n",
    "\n",
    "# 1. Class and Object\n",
    "# 2.Encapsulution\n",
    "\n",
    "# 3.Inheritance\n",
    "\n",
    "# 4.Abstraction \n",
    "\n",
    "# 5.Polymerphism\n",
    "\n",
    "\n",
    "\n",
    "\n",
    "# Oops is a best practice for large, complex, and maitable application \n",
    "# Becasuse it align well with real-modeling, modularity and Team collaboration"
   ]
  },
  {
   "cell_type": "code",
   "execution_count": null,
   "id": "66586521",
   "metadata": {},
   "outputs": [],
   "source": [
    "# Encapsulution\n",
    "# Act of combining properties and methonds\n",
    "\n",
    "#1.properties\n",
    "# Stuent\n",
    "# rollNO\n",
    "# name\n",
    "\n",
    "# 2. Methonds\n",
    "# changeSection()\n",
    "# PromotoClass()\n",
    "# enrollStudent()\n",
    "\n",
    "\n"
   ]
  },
  {
   "cell_type": "code",
   "execution_count": null,
   "id": "4be0b950",
   "metadata": {},
   "outputs": [
    {
     "name": "stdout",
     "output_type": "stream",
     "text": [
      "Object Created <__main__.Atm object at 0x0000018874A0B610>\n",
      "<__main__.Atm object at 0x0000018874A0B610>\n"
     ]
    }
   ],
   "source": [
    "class Atm:\n",
    "    # pin =''\n",
    "    # balance=0\n",
    "\n",
    "    def __init__(self):\n",
    "        self.pin = ''\n",
    "        self.balance = 0\n",
    "    \n",
    "    def chnagePin():\n",
    "        pass\n",
    "\n",
    "    def withDraw():\n",
    "        \n",
    "    \n",
    "    \n",
    "\n",
    "a1=Atm()\n",
    "a2=Atm()\n",
    "\n",
    "a1 + a2\n",
    "print(a1)\n",
    "\n",
    "\n",
    "\n",
    "\n",
    "\n",
    "\n"
   ]
  },
  {
   "cell_type": "code",
   "execution_count": null,
   "id": "d31dedd2",
   "metadata": {},
   "outputs": [
    {
     "name": "stdout",
     "output_type": "stream",
     "text": [
      "SumanSumanSuman\n"
     ]
    }
   ],
   "source": [
    "s1 = 3 + 3\n",
    "s2 = \"Suman\" + \"Bhandari\" \n",
    "print(s1)\n",
    "\n"
   ]
  },
  {
   "cell_type": "code",
   "execution_count": null,
   "id": "1eabf8a6",
   "metadata": {},
   "outputs": [],
   "source": [
    "\n"
   ]
  },
  {
   "cell_type": "code",
   "execution_count": null,
   "id": "30a5dcab",
   "metadata": {},
   "outputs": [
    {
     "name": "stdout",
     "output_type": "stream",
     "text": [
      "form Constructor <__main__.Atm object at 0x000001A9B8E0A990>\n",
      "form Constructor <__main__.Atm object at 0x000001A9B8DC6650>\n",
      "<__main__.Atm object at 0x000001A9B8E0A990>\n",
      "<__main__.Atm object at 0x000001A9B8DC6650>\n"
     ]
    }
   ],
   "source": [
    "\n",
    "#  \n",
    "\n",
    "# Oops in Python\n",
    "# \n",
    "# It is a programming paradigm that procvides a means of structuring programs so that properties and methods are bundled into individual objects \n",
    "\n",
    "# Procedure => Function Series of instructions to accompish task\n",
    "\n",
    "l1 = [12,12,32,43,45]\n",
    "\n",
    "# class\n",
    "# Common \n",
    "\n",
    "# Ramesh\n",
    "# Propernown\n",
    "\n",
    "\n",
    "\n",
    "\n",
    "\n",
    "\n",
    "# Main Aspect of OOPs\n",
    "\n",
    "# 1. Class and Object\n",
    "\n",
    "# 2. Ecapsulation\n",
    "```\n",
    "Act of combining properties and methods related to the same entity\n",
    " \n",
    "```\n",
    "# 3. Abstraction\n",
    "''' \n",
    "\n",
    "\n",
    "'''\n",
    "# 4. Inheritance\n",
    "'''\n",
    "\n",
    "\n",
    "'''\n",
    "# 5. Polymerphism\n",
    "\n",
    "\n",
    "\n",
    "\n",
    "class Atm:\n",
    "\n",
    "    # pin = ''\n",
    "    # balance = ''\n",
    "\n",
    "    def __init__(self):\n",
    "        print(\"form Constructor\",self)\n",
    "        self.pin = \n",
    "   \n",
    "a1 = Atm()\n",
    "a2= Atm()\n",
    "print(a1)\n",
    "print(a2)\n",
    "\n",
    "l1 = list()\n"
   ]
  },
  {
   "cell_type": "code",
   "execution_count": null,
   "id": "dc34652b",
   "metadata": {},
   "outputs": [],
   "source": [
    "s1 = \"Suman\" + \"Bhandari\"\n",
    "\n",
    "s1 = \"Suman\" * 3\n",
    "\n",
    "res1 = 2+5\n",
    "\n"
   ]
  },
  {
   "cell_type": "code",
   "execution_count": null,
   "id": "06d4b1ad",
   "metadata": {},
   "outputs": [],
   "source": [
    "\n",
    "# create a Customer Class dunder method \n",
    "# Properties\n",
    "# Object"
   ]
  },
  {
   "cell_type": "code",
   "execution_count": 2,
   "id": "74ed82ca",
   "metadata": {},
   "outputs": [
    {
     "name": "stdout",
     "output_type": "stream",
     "text": [
      "<class '__main__.Car'>\n"
     ]
    }
   ],
   "source": [
    "class Car:\n",
    "    pass\n",
    "\n",
    "audi = Car()\n",
    "\n",
    "print(type(audi))"
   ]
  }
 ],
 "metadata": {
  "kernelspec": {
   "display_name": "python_lib",
   "language": "python",
   "name": "python3"
  },
  "language_info": {
   "codemirror_mode": {
    "name": "ipython",
    "version": 3
   },
   "file_extension": ".py",
   "mimetype": "text/x-python",
   "name": "python",
   "nbconvert_exporter": "python",
   "pygments_lexer": "ipython3",
   "version": "3.11.7"
  }
 },
 "nbformat": 4,
 "nbformat_minor": 5
}
