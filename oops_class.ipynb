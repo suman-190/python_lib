{
 "cells": [
  {
   "cell_type": "code",
   "execution_count": null,
   "id": "6336c420",
   "metadata": {},
   "outputs": [],
   "source": [
    "# OOPS in Python\n",
    "\n",
    "# Functional Programming => \n",
    "# sellers\n",
    "# sellerName\n",
    "# sellerAddress\n",
    "# sellerMoney\n",
    "# Scaleable\n",
    "\n",
    "\n",
    "# Procedure=> Function series of instructions to accompish a task\n",
    "\n",
    "# A Program can be thought of a collection of procedures\n",
    "# main focus on doing \n",
    "# accoutOpen()\n",
    "\n",
    "# OOPS=> It is a programming paradigm that provides a means of structuring programs so that properties and behaviors are bundled into individual objects\n",
    "\n",
    "# OOP is a best practice for large, complex, and maintainable applications because it aligns well with real-world modeling, modularity, and team collaboration.\n",
    "\n",
    "# Main Aspect of OOPS\n",
    "# class and Object\n",
    "# 1) Encapsulation\n",
    "# 2) Abstraction\n",
    "# 3) Inheritance\n",
    "# 4) Polymerphism\n",
    "\n"
   ]
  },
  {
   "cell_type": "code",
   "execution_count": null,
   "id": "6847c1c1",
   "metadata": {},
   "outputs": [],
   "source": [
    "# class -Common Noun\n",
    "# Object -Proper Noun\n",
    "# State - set of property values stored in an Object\n"
   ]
  },
  {
   "cell_type": "code",
   "execution_count": null,
   "id": "9144257c",
   "metadata": {},
   "outputs": [],
   "source": [
    "# Defining Class\n",
    "# Blueprint and self defined data Type\n"
   ]
  },
  {
   "cell_type": "code",
   "execution_count": null,
   "id": "c6a64494",
   "metadata": {},
   "outputs": [],
   "source": [
    "# Write a function that returns the second largest number from a list of integers.\n",
    "\n",
    "# Write a function that takes a number and keeps summing its digits\n",
    "# until it becomes a single digit.\n",
    "# Example: 987 → 9 + 8 + 7 = 24 → 2 + 4 = 6  \n",
    "\n",
    "# Check if a given string is a palindrome using a loop (without using [::-1] or reversed()).\n",
    "\n",
    "# Return a list of common elements between two lists using loops.\n",
    "\n",
    "# Swap the first and last elements of a tuple.\n",
    "# Example: (1, 2, 3, 4) → (4, 2, 3, 1)\n",
    "\n",
    "# Write a function to count how many vowels are in a given string.\n",
    "# Write a program to print factorial of Given Numbers using Recurison"
   ]
  },
  {
   "cell_type": "code",
   "execution_count": null,
   "id": "00b257c5",
   "metadata": {},
   "outputs": [],
   "source": [
    "for i in range(1, 3):\n",
    "    for j in range(2):\n",
    "        print(i, j)\n",
    "        \n",
    "\n",
    "\n",
    "\n",
    "\n",
    "\n"
   ]
  },
  {
   "cell_type": "code",
   "execution_count": null,
   "id": "cff340ff",
   "metadata": {},
   "outputs": [],
   "source": [
    "# Example: 987 → 9 + 8 + 7 = 24 → 2 + 4 = 6  \n",
    "\n",
    "n=987\n",
    "\n",
    "\n",
    "# Modulus Operator\n",
    "# Floor Division\n",
    "\n",
    "\n",
    "\n",
    "\n",
    "\n"
   ]
  },
  {
   "cell_type": "code",
   "execution_count": null,
   "id": "d26b1fa8",
   "metadata": {},
   "outputs": [
    {
     "name": "stdout",
     "output_type": "stream",
     "text": [
      "SUMAN\n"
     ]
    }
   ],
   "source": [
    "li1 = [1,2,5,4,3]\n",
    "\n",
    "# len\n",
    "\n",
    "def cal_len(li):\n",
    "    for i in li1:\n",
    "        print(i)\n",
    "\n",
    "\n",
    "\n",
    "\n",
    "\n"
   ]
  },
  {
   "cell_type": "code",
   "execution_count": null,
   "id": "09bac5ed",
   "metadata": {},
   "outputs": [
    {
     "name": "stdout",
     "output_type": "stream",
     "text": [
      "1 0\n",
      "1 1\n",
      "2 0\n",
      "2 1\n"
     ]
    }
   ],
   "source": [
    "for i in range(1, 3):\n",
    "    for j in range(2):\n",
    "        print(i, j)\n",
    "\n",
    "\n",
    "# i=1\n",
    "# j=0   \n",
    "\n",
    "# i=1\n",
    "# j=1 \n",
    "# \n",
    "# i=2\n",
    "# j=0\n",
    "#  \n",
    "# i=2\n",
    "# j=1\n",
    "\n",
    "\n",
    "\n",
    "print(\"Suman\")\n",
    "print(\"Bhandari\")\n",
    "\n",
    "\n",
    "def fun1():\n",
    "    return 2\n",
    "\n",
    "print(2)\n"
   ]
  },
  {
   "cell_type": "code",
   "execution_count": null,
   "id": "e39611bf",
   "metadata": {},
   "outputs": [],
   "source": [
    "class Atm:\n",
    "    def __init__(self):\n",
    "         self.pin = ''\n",
    "         self.balance = 0\n",
    "         self.menu()\n",
    "\n",
    "    def menu(self):\n",
    "       user_input = input(\"\"\"\n",
    "    Hi how can I help you?\n",
    "    1. Press 1 to create pin\n",
    "    2. Press 2 to change pin\n",
    "    3. Press 3 to check balance\n",
    "    4. Press 4 to withdraw\n",
    "    5. Anything else to exit\n",
    "    \"\"\")\n",
    "    if user_input == '1':\n",
    "          self.create_pin()\n",
    "    elif user_input == '2':\n",
    "         self.change_pin()\n",
    "    elif user_input == '3':\n",
    "      self.check_balance()\n",
    "    elif user_input == '4':\n",
    "      self.withdraw()\n",
    "    else:\n",
    "      exit()\n",
    "       \n"
   ]
  }
 ],
 "metadata": {
  "kernelspec": {
   "display_name": "python_lib",
   "language": "python",
   "name": "python3"
  },
  "language_info": {
   "codemirror_mode": {
    "name": "ipython",
    "version": 3
   },
   "file_extension": ".py",
   "mimetype": "text/x-python",
   "name": "python",
   "nbconvert_exporter": "python",
   "pygments_lexer": "ipython3",
   "version": "3.11.7"
  }
 },
 "nbformat": 4,
 "nbformat_minor": 5
}
