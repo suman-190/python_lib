{
 "cells": [
  {
   "cell_type": "code",
   "execution_count": null,
   "id": "00850913",
   "metadata": {},
   "outputs": [
    {
     "name": "stdout",
     "output_type": "stream",
     "text": [
      "Buddy barking which has White\n"
     ]
    }
   ],
   "source": [
    "\n",
    "# self.name = instance Variable\n",
    "# properties and behaviour\n",
    "\n",
    "class Dog:\n",
    "    def __init__(self,name,color):\n",
    "          self.name = name \n",
    "          self.color = color\n",
    "\n",
    "    def bark(self):\n",
    "         print(f\"{self.name} barking which has {self.color}\")\n",
    "    \n",
    "    \n",
    "dog1 = Dog(\"Buddy\",\"White\")\n",
    "dog1.bark()\n",
    "# print(dog1)\n",
    "\n",
    "# print(dog1.name)\n",
    "# print(dog1.color)\n",
    "\n",
    "# dog2 = Dog(\"Lucy\",\"Black\")"
   ]
  },
  {
   "cell_type": "code",
   "execution_count": 5,
   "id": "d3dbb584",
   "metadata": {},
   "outputs": [
    {
     "name": "stdout",
     "output_type": "stream",
     "text": [
      "200 is withdraw. Current Balance is 300\n",
      "1000 is deposited. current balnce is 1300\n",
      "1300\n"
     ]
    }
   ],
   "source": [
    "class BankAccount:\n",
    "    def __init__(self,owner,balance=0):\n",
    "        self.owner = owner\n",
    "        self.balance = balance\n",
    "    \n",
    "    def deposite(self,amount):\n",
    "        self.balance += amount\n",
    "        print(f\"{amount} is deposited. current balnce is {self.balance}\")\n",
    "\n",
    "    def withdraw(self,amount):\n",
    "        if amount > self.balance:\n",
    "            print(\"Insufficient funds!\")\n",
    "        else:\n",
    "            self.balance-=amount\n",
    "            print(f\"{amount } is withdraw. Current Balance is {self.balance}\")\n",
    "    def get_balance(self):\n",
    "        return self.balance \n",
    "\n",
    "\n",
    "\n",
    "# Create an Object\n",
    "\n",
    "account1 = BankAccount(\"Suman\",500)\n",
    "account1.withdraw(200)\n",
    "account1.deposite(1000)\n",
    "print(account1.get_balance())\n"
   ]
  },
  {
   "cell_type": "code",
   "execution_count": 8,
   "id": "9a848390",
   "metadata": {},
   "outputs": [
    {
     "name": "stdout",
     "output_type": "stream",
     "text": [
      "1000 is deposited. current balnce is 4300\n"
     ]
    }
   ],
   "source": [
    "account1.deposite(1000)"
   ]
  }
 ],
 "metadata": {
  "kernelspec": {
   "display_name": "python_lib",
   "language": "python",
   "name": "python3"
  },
  "language_info": {
   "codemirror_mode": {
    "name": "ipython",
    "version": 3
   },
   "file_extension": ".py",
   "mimetype": "text/x-python",
   "name": "python",
   "nbconvert_exporter": "python",
   "pygments_lexer": "ipython3",
   "version": "3.11.7"
  }
 },
 "nbformat": 4,
 "nbformat_minor": 5
}
