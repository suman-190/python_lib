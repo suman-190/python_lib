{
 "cells": [
  {
   "cell_type": "code",
   "execution_count": null,
   "id": "00850913",
   "metadata": {},
   "outputs": [
    {
     "name": "stdout",
     "output_type": "stream",
     "text": [
      "Buddy barking which has White\n"
     ]
    }
   ],
   "source": [
    "\n",
    "# self.name = instance Variable\n",
    "# properties and behaviour\n",
    "\n",
    "class Dog:\n",
    "    def __init__(self,name,color):\n",
    "          self.name = name \n",
    "          self.color = color\n",
    "\n",
    "    def bark(self):\n",
    "         print(f\"{self.name} barking which has {self.color}\")\n",
    "    \n",
    "    \n",
    "dog1 = Dog(\"Buddy\",\"White\")\n",
    "dog1.bark()\n",
    "# print(dog1)\n",
    "\n",
    "# print(dog1.name)\n",
    "# print(dog1.color)\n",
    "\n",
    "# dog2 = Dog(\"Lucy\",\"Black\")"
   ]
  },
  {
   "cell_type": "code",
   "execution_count": 5,
   "id": "d3dbb584",
   "metadata": {},
   "outputs": [
    {
     "name": "stdout",
     "output_type": "stream",
     "text": [
      "200 is withdraw. Current Balance is 300\n",
      "1000 is deposited. current balnce is 1300\n",
      "1300\n"
     ]
    }
   ],
   "source": [
    "class BankAccount:\n",
    "    def __init__(self,owner,balance=0):\n",
    "        self.owner = owner\n",
    "        self.balance = balance\n",
    "    \n",
    "    def deposite(self,amount):\n",
    "        self.balance += amount\n",
    "        print(f\"{amount} is deposited. current balnce is {self.balance}\")\n",
    "\n",
    "    def withdraw(self,amount):\n",
    "        if amount > self.balance:\n",
    "            print(\"Insufficient funds!\")\n",
    "        else:\n",
    "            self.balance-=amount\n",
    "            print(f\"{amount } is withdraw. Current Balance is {self.balance}\")\n",
    "    def get_balance(self):\n",
    "        return self.balance \n",
    "\n",
    "\n",
    "\n",
    "# Create an Object\n",
    "\n",
    "account1 = BankAccount(\"Suman\",500)\n",
    "account1.withdraw(200)\n",
    "account1.deposite(1000)\n",
    "print(account1.get_balance())\n"
   ]
  },
  {
   "cell_type": "code",
   "execution_count": 8,
   "id": "9a848390",
   "metadata": {},
   "outputs": [
    {
     "name": "stdout",
     "output_type": "stream",
     "text": [
      "1000 is deposited. current balnce is 4300\n"
     ]
    }
   ],
   "source": [
    "account1.deposite(1000)"
   ]
  },
  {
   "cell_type": "code",
   "execution_count": null,
   "id": "9d843344",
   "metadata": {},
   "outputs": [],
   "source": [
    "\n",
    "\n",
    "\n",
    "\n"
   ]
  },
  {
   "cell_type": "code",
   "execution_count": null,
   "id": "7f6e4cfc",
   "metadata": {},
   "outputs": [
    {
     "name": "stdout",
     "output_type": "stream",
     "text": [
      "Buddy\n",
      "White\n",
      "Buddy is barking which has color White\n"
     ]
    }
   ],
   "source": [
    "class Dog:\n",
    "    def __init__(self,name,color):\n",
    "        self.name = name\n",
    "        self.color = color\n",
    "\n",
    "    def bark(self):\n",
    "        print(f\"{self.name} is barking which has color {self.color}\")\n",
    "    \n",
    "\n",
    "    \n",
    "    \n",
    "\n",
    "dog1 = Dog(\"Buddy\",\"White\")\n",
    "\n",
    "print(dog1.name)\n",
    "print(dog1.color)\n",
    "dog1.bark()\n",
    "dog2  = Dog(\"Lucy\",\"Black\")\n",
    "\n",
    "\n"
   ]
  },
  {
   "cell_type": "code",
   "execution_count": null,
   "id": "1a6d6bf5",
   "metadata": {},
   "outputs": [],
   "source": [
    "a= 20\n",
    "class Test:\n",
    "    x = 10\n",
    "    def f1():\n",
    "        m1 = 4\n",
    "    def __init__(self,a):\n",
    "        self.a = a\n",
    "        print(a)  \n",
    "\n",
    "t1 = Test(20)"
   ]
  },
  {
   "cell_type": "code",
   "execution_count": null,
   "id": "e839fd80",
   "metadata": {},
   "outputs": [
    {
     "name": "stdout",
     "output_type": "stream",
     "text": [
      "Buddy barks\n"
     ]
    },
    {
     "ename": "TypeError",
     "evalue": "Animal.__init__() takes 2 positional arguments but 3 were given",
     "output_type": "error",
     "traceback": [
      "\u001b[31m---------------------------------------------------------------------------\u001b[39m",
      "\u001b[31mTypeError\u001b[39m                                 Traceback (most recent call last)",
      "\u001b[36mCell\u001b[39m\u001b[36m \u001b[39m\u001b[32mIn[8]\u001b[39m\u001b[32m, line 20\u001b[39m\n\u001b[32m     18\u001b[39m d = Dog(\u001b[33m\"\u001b[39m\u001b[33mBuddy\u001b[39m\u001b[33m\"\u001b[39m)\n\u001b[32m     19\u001b[39m d.bark()\n\u001b[32m---> \u001b[39m\u001b[32m20\u001b[39m c1 = \u001b[43mCat\u001b[49m\u001b[43m(\u001b[49m\u001b[33;43m\"\u001b[39;49m\u001b[33;43mGen\u001b[39;49m\u001b[33;43m\"\u001b[39;49m\u001b[43m,\u001b[49m\u001b[33;43m\"\u001b[39;49m\u001b[33;43mBlack\u001b[39;49m\u001b[33;43m\"\u001b[39;49m\u001b[43m)\u001b[49m\n\u001b[32m     21\u001b[39m c1.speak()\n",
      "\u001b[31mTypeError\u001b[39m: Animal.__init__() takes 2 positional arguments but 3 were given"
     ]
    }
   ],
   "source": [
    "class Animal:\n",
    "    def __init__(self,name):\n",
    "        self.name = name\n",
    "\n",
    "    def speak(self):\n",
    "        print(f\"{self.name} makes a sound\") \n",
    "\n",
    "\n",
    "class Dog(Animal):\n",
    "    def bark(self):\n",
    "        print(f\"{self.name} barks\")\n",
    "\n",
    "\n",
    "class Cat(Animal):\n",
    "    def speak(self):\n",
    "        print(\"Cat meows\",self.name)\n",
    "\n",
    "d = Dog(\"Buddy\")\n",
    "d.bark()\n",
    "c1 = Cat(\"Gen\")\n",
    "c1.speak()"
   ]
  },
  {
   "cell_type": "code",
   "execution_count": null,
   "id": "42df14f8",
   "metadata": {},
   "outputs": [],
   "source": [
    "class Employee:\n",
    "    def __init__(self,name):\n",
    "        self.name = name\n",
    "\n",
    "    def show(self):\n",
    "        print(f\"Name:{self.name}\")    \n",
    "\n",
    "class Manager(Employee):\n",
    "    def __init__(self, name,department):\n",
    "          super().__init__(name)\n",
    "    \n",
    "    "
   ]
  },
  {
   "cell_type": "code",
   "execution_count": null,
   "id": "1b40107b",
   "metadata": {},
   "outputs": [
    {
     "name": "stdout",
     "output_type": "stream",
     "text": [
      "1000 is Withdrawn. currrent Balance is 9000\n",
      "2000 is deposited.current balance is 11000\n"
     ]
    },
    {
     "data": {
      "text/plain": [
       "11000"
      ]
     },
     "execution_count": 5,
     "metadata": {},
     "output_type": "execute_result"
    }
   ],
   "source": [
    "\n",
    "class BankAccount:\n",
    "    def __init__(self,owner,balance=0):\n",
    "        self.owner = owner\n",
    "        self.balance  = balance\n",
    "\n",
    "    def deposit(self,amount):\n",
    "        self.balance+=amount\n",
    "        print(f\"{amount} is deposited.current balance is {self.balance}\")    \n",
    "\n",
    "    def withdraw(self,amount):\n",
    "        if amount > self.balance:\n",
    "            print(\"Insufficent Balance\")\n",
    "        else:\n",
    "            self.balance -=amount\n",
    "            print(f\"{amount} is Withdrawn. currrent Balance is {self.balance}\")  \n",
    "\n",
    "    def get_balance(self):\n",
    "        return self.balance\n",
    "\n",
    "\n",
    "account1 = BankAccount(\"Prisa\",10000)\n",
    "account1.withdraw(1000)\n",
    "account1.deposit(2000)\n",
    "account1.get_balance()\n",
    "\n",
    "\n",
    "\n",
    "\n",
    "\n",
    "# pin, update_pin, \n",
    "\n"
   ]
  },
  {
   "cell_type": "code",
   "execution_count": null,
   "id": "b0939cdd",
   "metadata": {},
   "outputs": [
    {
     "ename": "SyntaxError",
     "evalue": "expected ':' (1476782252.py, line 2)",
     "output_type": "error",
     "traceback": [
      "  \u001b[36mCell\u001b[39m\u001b[36m \u001b[39m\u001b[32mIn[1]\u001b[39m\u001b[32m, line 2\u001b[39m\n\u001b[31m    \u001b[39m\u001b[31mdef __init__(self,owner,balanace=0)\u001b[39m\n                                       ^\n\u001b[31mSyntaxError\u001b[39m\u001b[31m:\u001b[39m expected ':'\n"
     ]
    }
   ],
   "source": [
    "# class BankAccount:\n",
    "#     def __init__(self,owner,balanace=0)\n",
    "#         self.owner =owner\n",
    "#         self.balance = balanace\n",
    "#     def deposite(self,amount):\n",
    "#         self.balance+=amount\n",
    "#         print(f\"{amount} is deposited .current balance {self.balance}\")\n",
    "\n",
    "#     def withdraw(self,amount):\n",
    "#             if amount>self.balance:\n",
    "#                  print(\"Insufficent Balance!\")\n",
    "#             else:\n",
    "#                  self.balance-=amount\n",
    "#                  print(f\"{amount} is withdrawen. Current Balance is {self.balance}\")\n",
    "\n",
    "#     def get_balance(self):\n",
    "#          return self.balance \n",
    "\n",
    "# account1 = BankAccount(\"Prisa\",10000)                \n",
    "\n",
    "\n",
    "\n",
    "\n"
   ]
  }
 ],
 "metadata": {
  "kernelspec": {
   "display_name": "python_lib",
   "language": "python",
   "name": "python3"
  },
  "language_info": {
   "codemirror_mode": {
    "name": "ipython",
    "version": 3
   },
   "file_extension": ".py",
   "mimetype": "text/x-python",
   "name": "python",
   "nbconvert_exporter": "python",
   "pygments_lexer": "ipython3",
   "version": "3.11.7"
  }
 },
 "nbformat": 4,
 "nbformat_minor": 5
}
